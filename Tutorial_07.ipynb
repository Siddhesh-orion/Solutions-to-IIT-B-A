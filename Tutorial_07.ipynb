{
 "cells": [
  {
   "cell_type": "markdown",
   "metadata": {},
   "source": [
    "Tutorial 07\n",
    "\n",
    "1. For this, you'll need your results from Tutorial 4 which was on plotting. \n",
    "If you got your results correct, you should see a monotonically increasing function. \n",
    "According to General Relativity, we know that the frequency--time relationship is a power law. \n",
    "It is given by:\n",
    "\n",
    "\n",
    "$f_{\\mathrm{GW}}^{-\\frac{8}{3}}(t)\n",
    "= \\frac{(8\\pi)^{8/3}}{5}\n",
    "\\left( \\frac{G \\mathcal{M}}{c^3} \\right)^{5/3}\n",
    "(t_c - t)$\n",
    "\n",
    "where $f_{\\mathrm{GW}}$ is the frequency of Gravitational Waves, \n",
    "$\\mathcal M$ is the chirp mass of the binary system, \n",
    "and $t_c$ is the time of coalescence (the time associated with $t=0$ in your data). \n",
    "\n",
    "Note that this equation is valid only for $t < t_c$, since after coalescence the waveform enters the ringdown phase where the process is highly non-linear and the frequency evolution can no longer be described by this simple power law.\n",
    "\n",
    "Your task is to take points with frequency higher than 50 Hz until $t_c$ and fit a curve to get the chirp mass of the system."
   ]
  },
  {
   "cell_type": "code",
   "execution_count": 2,
   "metadata": {},
   "outputs": [],
   "source": [
    "%matplotlib inline"
   ]
  },
  {
   "cell_type": "code",
   "execution_count": 3,
   "metadata": {},
   "outputs": [],
   "source": [
    "import numpy as np\n",
    "import pandas as pd\n",
    "from scipy.optimize import curve_fit as cf\n",
    "import matplotlib.pyplot as plt"
   ]
  },
  {
   "cell_type": "code",
   "execution_count": 4,
   "metadata": {},
   "outputs": [
    {
     "data": {
      "text/html": [
       "<div>\n",
       "<style scoped>\n",
       "    .dataframe tbody tr th:only-of-type {\n",
       "        vertical-align: middle;\n",
       "    }\n",
       "\n",
       "    .dataframe tbody tr th {\n",
       "        vertical-align: top;\n",
       "    }\n",
       "\n",
       "    .dataframe thead th {\n",
       "        text-align: right;\n",
       "    }\n",
       "</style>\n",
       "<table border=\"1\" class=\"dataframe\">\n",
       "  <thead>\n",
       "    <tr style=\"text-align: right;\">\n",
       "      <th></th>\n",
       "      <th>Time (s)</th>\n",
       "      <th>Frequency(Hz)</th>\n",
       "    </tr>\n",
       "  </thead>\n",
       "  <tbody>\n",
       "    <tr>\n",
       "      <th>0</th>\n",
       "      <td>-0.173779</td>\n",
       "      <td>27.458544</td>\n",
       "    </tr>\n",
       "    <tr>\n",
       "      <th>1</th>\n",
       "      <td>-0.172315</td>\n",
       "      <td>27.458544</td>\n",
       "    </tr>\n",
       "    <tr>\n",
       "      <th>2</th>\n",
       "      <td>-0.170361</td>\n",
       "      <td>27.458544</td>\n",
       "    </tr>\n",
       "    <tr>\n",
       "      <th>3</th>\n",
       "      <td>-0.168164</td>\n",
       "      <td>27.458544</td>\n",
       "    </tr>\n",
       "    <tr>\n",
       "      <th>4</th>\n",
       "      <td>-0.166699</td>\n",
       "      <td>30.767304</td>\n",
       "    </tr>\n",
       "    <tr>\n",
       "      <th>5</th>\n",
       "      <td>-0.162061</td>\n",
       "      <td>30.767304</td>\n",
       "    </tr>\n",
       "    <tr>\n",
       "      <th>6</th>\n",
       "      <td>-0.161084</td>\n",
       "      <td>30.767304</td>\n",
       "    </tr>\n",
       "    <tr>\n",
       "      <th>7</th>\n",
       "      <td>-0.158643</td>\n",
       "      <td>30.767304</td>\n",
       "    </tr>\n",
       "    <tr>\n",
       "      <th>8</th>\n",
       "      <td>-0.156201</td>\n",
       "      <td>30.767304</td>\n",
       "    </tr>\n",
       "    <tr>\n",
       "      <th>9</th>\n",
       "      <td>-0.153760</td>\n",
       "      <td>30.767304</td>\n",
       "    </tr>\n",
       "    <tr>\n",
       "      <th>10</th>\n",
       "      <td>-0.152783</td>\n",
       "      <td>30.767304</td>\n",
       "    </tr>\n",
       "    <tr>\n",
       "      <th>11</th>\n",
       "      <td>-0.149854</td>\n",
       "      <td>31.018362</td>\n",
       "    </tr>\n",
       "    <tr>\n",
       "      <th>12</th>\n",
       "      <td>-0.141065</td>\n",
       "      <td>31.018362</td>\n",
       "    </tr>\n",
       "    <tr>\n",
       "      <th>13</th>\n",
       "      <td>-0.137647</td>\n",
       "      <td>31.018362</td>\n",
       "    </tr>\n",
       "    <tr>\n",
       "      <th>14</th>\n",
       "      <td>-0.132031</td>\n",
       "      <td>31.018362</td>\n",
       "    </tr>\n",
       "    <tr>\n",
       "      <th>15</th>\n",
       "      <td>-0.125684</td>\n",
       "      <td>34.756080</td>\n",
       "    </tr>\n",
       "    <tr>\n",
       "      <th>16</th>\n",
       "      <td>-0.122022</td>\n",
       "      <td>35.039687</td>\n",
       "    </tr>\n",
       "    <tr>\n",
       "      <th>17</th>\n",
       "      <td>-0.119824</td>\n",
       "      <td>35.039687</td>\n",
       "    </tr>\n",
       "    <tr>\n",
       "      <th>18</th>\n",
       "      <td>-0.114209</td>\n",
       "      <td>35.039687</td>\n",
       "    </tr>\n",
       "    <tr>\n",
       "      <th>19</th>\n",
       "      <td>-0.113233</td>\n",
       "      <td>35.039687</td>\n",
       "    </tr>\n",
       "    <tr>\n",
       "      <th>20</th>\n",
       "      <td>-0.109570</td>\n",
       "      <td>35.039687</td>\n",
       "    </tr>\n",
       "    <tr>\n",
       "      <th>21</th>\n",
       "      <td>-0.108106</td>\n",
       "      <td>35.039687</td>\n",
       "    </tr>\n",
       "    <tr>\n",
       "      <th>22</th>\n",
       "      <td>-0.106641</td>\n",
       "      <td>35.039687</td>\n",
       "    </tr>\n",
       "    <tr>\n",
       "      <th>23</th>\n",
       "      <td>-0.105664</td>\n",
       "      <td>35.039687</td>\n",
       "    </tr>\n",
       "    <tr>\n",
       "      <th>24</th>\n",
       "      <td>-0.103955</td>\n",
       "      <td>35.039687</td>\n",
       "    </tr>\n",
       "    <tr>\n",
       "      <th>25</th>\n",
       "      <td>-0.094434</td>\n",
       "      <td>39.582349</td>\n",
       "    </tr>\n",
       "    <tr>\n",
       "      <th>26</th>\n",
       "      <td>-0.091748</td>\n",
       "      <td>39.582349</td>\n",
       "    </tr>\n",
       "    <tr>\n",
       "      <th>27</th>\n",
       "      <td>-0.090527</td>\n",
       "      <td>39.582349</td>\n",
       "    </tr>\n",
       "    <tr>\n",
       "      <th>28</th>\n",
       "      <td>-0.080274</td>\n",
       "      <td>39.905338</td>\n",
       "    </tr>\n",
       "    <tr>\n",
       "      <th>29</th>\n",
       "      <td>-0.072461</td>\n",
       "      <td>44.713938</td>\n",
       "    </tr>\n",
       "    <tr>\n",
       "      <th>30</th>\n",
       "      <td>-0.069531</td>\n",
       "      <td>44.713938</td>\n",
       "    </tr>\n",
       "    <tr>\n",
       "      <th>31</th>\n",
       "      <td>-0.064160</td>\n",
       "      <td>44.713938</td>\n",
       "    </tr>\n",
       "    <tr>\n",
       "      <th>32</th>\n",
       "      <td>-0.056592</td>\n",
       "      <td>45.078800</td>\n",
       "    </tr>\n",
       "    <tr>\n",
       "      <th>33</th>\n",
       "      <td>-0.046338</td>\n",
       "      <td>45.078800</td>\n",
       "    </tr>\n",
       "    <tr>\n",
       "      <th>34</th>\n",
       "      <td>-0.036328</td>\n",
       "      <td>50.922966</td>\n",
       "    </tr>\n",
       "    <tr>\n",
       "      <th>35</th>\n",
       "      <td>-0.027051</td>\n",
       "      <td>74.006041</td>\n",
       "    </tr>\n",
       "    <tr>\n",
       "      <th>36</th>\n",
       "      <td>-0.020947</td>\n",
       "      <td>84.282605</td>\n",
       "    </tr>\n",
       "    <tr>\n",
       "      <th>37</th>\n",
       "      <td>-0.012647</td>\n",
       "      <td>95.209285</td>\n",
       "    </tr>\n",
       "    <tr>\n",
       "      <th>38</th>\n",
       "      <td>-0.007520</td>\n",
       "      <td>95.209285</td>\n",
       "    </tr>\n",
       "    <tr>\n",
       "      <th>39</th>\n",
       "      <td>-0.003613</td>\n",
       "      <td>138.367082</td>\n",
       "    </tr>\n",
       "    <tr>\n",
       "      <th>40</th>\n",
       "      <td>-0.000195</td>\n",
       "      <td>157.580893</td>\n",
       "    </tr>\n",
       "    <tr>\n",
       "      <th>41</th>\n",
       "      <td>0.002246</td>\n",
       "      <td>201.088050</td>\n",
       "    </tr>\n",
       "    <tr>\n",
       "      <th>42</th>\n",
       "      <td>0.004443</td>\n",
       "      <td>227.157779</td>\n",
       "    </tr>\n",
       "    <tr>\n",
       "      <th>43</th>\n",
       "      <td>0.006396</td>\n",
       "      <td>227.157779</td>\n",
       "    </tr>\n",
       "    <tr>\n",
       "      <th>44</th>\n",
       "      <td>0.008594</td>\n",
       "      <td>256.607276</td>\n",
       "    </tr>\n",
       "    <tr>\n",
       "      <th>45</th>\n",
       "      <td>0.010058</td>\n",
       "      <td>258.701168</td>\n",
       "    </tr>\n",
       "    <tr>\n",
       "      <th>46</th>\n",
       "      <td>0.012500</td>\n",
       "      <td>292.240055</td>\n",
       "    </tr>\n",
       "    <tr>\n",
       "      <th>47</th>\n",
       "      <td>0.014697</td>\n",
       "      <td>83.600433</td>\n",
       "    </tr>\n",
       "    <tr>\n",
       "      <th>48</th>\n",
       "      <td>0.015674</td>\n",
       "      <td>83.600433</td>\n",
       "    </tr>\n",
       "    <tr>\n",
       "      <th>49</th>\n",
       "      <td>0.019092</td>\n",
       "      <td>74.006041</td>\n",
       "    </tr>\n",
       "    <tr>\n",
       "      <th>50</th>\n",
       "      <td>0.019824</td>\n",
       "      <td>74.006041</td>\n",
       "    </tr>\n",
       "    <tr>\n",
       "      <th>51</th>\n",
       "      <td>0.022754</td>\n",
       "      <td>157.580893</td>\n",
       "    </tr>\n",
       "  </tbody>\n",
       "</table>\n",
       "</div>"
      ],
      "text/plain": [
       "    Time (s)  Frequency(Hz)\n",
       "0  -0.173779      27.458544\n",
       "1  -0.172315      27.458544\n",
       "2  -0.170361      27.458544\n",
       "3  -0.168164      27.458544\n",
       "4  -0.166699      30.767304\n",
       "5  -0.162061      30.767304\n",
       "6  -0.161084      30.767304\n",
       "7  -0.158643      30.767304\n",
       "8  -0.156201      30.767304\n",
       "9  -0.153760      30.767304\n",
       "10 -0.152783      30.767304\n",
       "11 -0.149854      31.018362\n",
       "12 -0.141065      31.018362\n",
       "13 -0.137647      31.018362\n",
       "14 -0.132031      31.018362\n",
       "15 -0.125684      34.756080\n",
       "16 -0.122022      35.039687\n",
       "17 -0.119824      35.039687\n",
       "18 -0.114209      35.039687\n",
       "19 -0.113233      35.039687\n",
       "20 -0.109570      35.039687\n",
       "21 -0.108106      35.039687\n",
       "22 -0.106641      35.039687\n",
       "23 -0.105664      35.039687\n",
       "24 -0.103955      35.039687\n",
       "25 -0.094434      39.582349\n",
       "26 -0.091748      39.582349\n",
       "27 -0.090527      39.582349\n",
       "28 -0.080274      39.905338\n",
       "29 -0.072461      44.713938\n",
       "30 -0.069531      44.713938\n",
       "31 -0.064160      44.713938\n",
       "32 -0.056592      45.078800\n",
       "33 -0.046338      45.078800\n",
       "34 -0.036328      50.922966\n",
       "35 -0.027051      74.006041\n",
       "36 -0.020947      84.282605\n",
       "37 -0.012647      95.209285\n",
       "38 -0.007520      95.209285\n",
       "39 -0.003613     138.367082\n",
       "40 -0.000195     157.580893\n",
       "41  0.002246     201.088050\n",
       "42  0.004443     227.157779\n",
       "43  0.006396     227.157779\n",
       "44  0.008594     256.607276\n",
       "45  0.010058     258.701168\n",
       "46  0.012500     292.240055\n",
       "47  0.014697      83.600433\n",
       "48  0.015674      83.600433\n",
       "49  0.019092      74.006041\n",
       "50  0.019824      74.006041\n",
       "51  0.022754     157.580893"
      ]
     },
     "execution_count": 4,
     "metadata": {},
     "output_type": "execute_result"
    }
   ],
   "source": [
    "raw_data = pd.read_csv(\"data_tutorial_07.csv\")\n",
    "raw_data"
   ]
  },
  {
   "cell_type": "code",
   "execution_count": 5,
   "metadata": {},
   "outputs": [
    {
     "data": {
      "text/html": [
       "<div>\n",
       "<style scoped>\n",
       "    .dataframe tbody tr th:only-of-type {\n",
       "        vertical-align: middle;\n",
       "    }\n",
       "\n",
       "    .dataframe tbody tr th {\n",
       "        vertical-align: top;\n",
       "    }\n",
       "\n",
       "    .dataframe thead th {\n",
       "        text-align: right;\n",
       "    }\n",
       "</style>\n",
       "<table border=\"1\" class=\"dataframe\">\n",
       "  <thead>\n",
       "    <tr style=\"text-align: right;\">\n",
       "      <th></th>\n",
       "      <th>Time (s)</th>\n",
       "      <th>Frequency(Hz)</th>\n",
       "    </tr>\n",
       "  </thead>\n",
       "  <tbody>\n",
       "    <tr>\n",
       "      <th>34</th>\n",
       "      <td>-0.036328</td>\n",
       "      <td>50.922966</td>\n",
       "    </tr>\n",
       "    <tr>\n",
       "      <th>35</th>\n",
       "      <td>-0.027051</td>\n",
       "      <td>74.006041</td>\n",
       "    </tr>\n",
       "    <tr>\n",
       "      <th>36</th>\n",
       "      <td>-0.020947</td>\n",
       "      <td>84.282605</td>\n",
       "    </tr>\n",
       "    <tr>\n",
       "      <th>37</th>\n",
       "      <td>-0.012647</td>\n",
       "      <td>95.209285</td>\n",
       "    </tr>\n",
       "    <tr>\n",
       "      <th>38</th>\n",
       "      <td>-0.007520</td>\n",
       "      <td>95.209285</td>\n",
       "    </tr>\n",
       "    <tr>\n",
       "      <th>39</th>\n",
       "      <td>-0.003613</td>\n",
       "      <td>138.367082</td>\n",
       "    </tr>\n",
       "    <tr>\n",
       "      <th>40</th>\n",
       "      <td>-0.000195</td>\n",
       "      <td>157.580893</td>\n",
       "    </tr>\n",
       "  </tbody>\n",
       "</table>\n",
       "</div>"
      ],
      "text/plain": [
       "    Time (s)  Frequency(Hz)\n",
       "34 -0.036328      50.922966\n",
       "35 -0.027051      74.006041\n",
       "36 -0.020947      84.282605\n",
       "37 -0.012647      95.209285\n",
       "38 -0.007520      95.209285\n",
       "39 -0.003613     138.367082\n",
       "40 -0.000195     157.580893"
      ]
     },
     "execution_count": 5,
     "metadata": {},
     "output_type": "execute_result"
    }
   ],
   "source": [
    "data = raw_data[(raw_data[\"Time (s)\"] < 0) & (raw_data[\"Frequency(Hz)\"] >= 50)]\n",
    "data"
   ]
  },
  {
   "cell_type": "code",
   "execution_count": 6,
   "metadata": {},
   "outputs": [],
   "source": [
    "xdata = np.log(np.abs(data[\"Time (s)\"]))\n",
    "ydata = np.log(data[\"Frequency(Hz)\"])"
   ]
  },
  {
   "cell_type": "code",
   "execution_count": 7,
   "metadata": {},
   "outputs": [
    {
     "data": {
      "text/plain": [
       "<matplotlib.collections.PathCollection at 0x23a29cd23c0>"
      ]
     },
     "execution_count": 7,
     "metadata": {},
     "output_type": "execute_result"
    },
    {
     "data": {
      "image/png": "[encoded data removed]",
      "text/plain": [
       "<Figure size 640x480 with 1 Axes>"
      ]
     },
     "metadata": {},
     "output_type": "display_data"
    }
   ],
   "source": [
    "plt.scatter(xdata,ydata,s=40)"
   ]
  },
  {
   "cell_type": "code",
   "execution_count": 8,
   "metadata": {},
   "outputs": [],
   "source": [
    "def linear(x,m,c):\n",
    "    return m*x + c\n"
   ]
  },
  {
   "cell_type": "code",
   "execution_count": 9,
   "metadata": {},
   "outputs": [
    {
     "data": {
      "text/plain": [
       "array([-0.18372053,  3.6406611 ])"
      ]
     },
     "execution_count": 9,
     "metadata": {},
     "output_type": "execute_result"
    }
   ],
   "source": [
    "p_opt, p_cov = cf(linear,xdata,ydata)\n",
    "# p_opt is the array that contains optimized values of the parameters, whereas p_cov is the covariance matrix.\n",
    "p_opt"
   ]
  },
  {
   "cell_type": "code",
   "execution_count": 10,
   "metadata": {},
   "outputs": [
    {
     "name": "stdout",
     "output_type": "stream",
     "text": [
      "[-0.18372053  3.6406611 ]\n"
     ]
    },
    {
     "data": {
      "image/png": "[encoded data removed]",
      "text/plain": [
       "<Figure size 640x480 with 1 Axes>"
      ]
     },
     "metadata": {},
     "output_type": "display_data"
    }
   ],
   "source": [
    "plt.plot(xdata,linear(xdata,*p_opt),label='Best Fit',color='r')\n",
    "# * before a separable object unpacks it. So you don't need to write lin_func(xdata,p_opt[0],p_opt[1]). The *\n",
    "# does it for you.\n",
    "plt.scatter(xdata,ydata,label='OG_Data',s=25,color='purple')\n",
    "# Yes, you can have scatter plot and a normal plot in one\n",
    "plt.xlabel('log(Time)')\n",
    "plt.ylabel('log(Frequency)')\n",
    "plt.title('Linear Fit')\n",
    "plt.legend()\n",
    "print(p_opt)"
   ]
  },
  {
   "cell_type": "markdown",
   "metadata": {},
   "source": [
    "---------------------------------------------------------------------------------------------------------------------------"
   ]
  },
  {
   "cell_type": "markdown",
   "metadata": {},
   "source": [
    "2. You'll need to recall what you did in Tutorial 5 which was on astropy. You were asked to plot a histogram based on the number of background counts. You should notice a very nice distribution, except maybe a few irregular peaks. The peaks don't have any astrophysical significance, but are most probably present because of some property of the CCD camera used to capture the image. So, for now we'll ignore them.\n",
    "\n",
    "Here we are counting the number of photons incident on each pixel. The pixels where you don't see any stars should have photon count to be zero. But that is not true. There is always some background radiation.\n",
    "\n",
    "Now here we are counting something, in this case, photons. And whenever you are counting something, it is bound to follow Poisson distribution. Let it be no. of radioactive decays in a radioactive material, no. of patients coming into a hospital between 10 to 11 pm, or the number of laser photons hitting a mirror (uncertainity in this leads to what is known as shot noise), they all follow poisson distribution. The background photon count is no different.\n",
    "\n",
    "Now in the limit that we have infinite data, the poisson distribution becomes continuous, and in this limit the probability distribution is the Gaussian distribution. In fact, the probability distribution of the mean of a random variable always converges to a gaussian. This is the Central Limit Theorem.\n",
    "\n",
    "Enough about the probability theory, let's get to your task. Your task is to fit a Gaussian Function. If you want your data to resemble a probability distribution, you can just normalize it and then fit a Normal probability distribution function instead of just a Gaussian Function."
   ]
  },
  {
   "cell_type": "code",
   "execution_count": 56,
   "metadata": {},
   "outputs": [
    {
     "name": "stdout",
     "output_type": "stream",
     "text": [
      "522.9460032358893\n",
      "44.88875137492688\n",
      "599.9460032358893\n"
     ]
    }
   ],
   "source": [
    "bkg_count_data = pd.read_csv(\"data_tutorial_07_part2.csv\")\n",
    "print(bkg_count_data[\"Bins\"].mean())\n",
    "print(bkg_count_data[\"Bins\"].std())\n",
    "print(bkg_count_data[\"Bins\"].max())"
   ]
  },
  {
   "cell_type": "code",
   "execution_count": 26,
   "metadata": {},
   "outputs": [],
   "source": [
    "xdata = bkg_count_data[\"Bins\"]\n",
    "ydata = bkg_count_data[\"Number of Pixels\"]"
   ]
  },
  {
   "cell_type": "code",
   "execution_count": 28,
   "metadata": {},
   "outputs": [
    {
     "data": {
      "text/plain": [
       "<matplotlib.collections.PathCollection at 0x23a4221b800>"
      ]
     },
     "execution_count": 28,
     "metadata": {},
     "output_type": "execute_result"
    },
    {
     "data": {
      "image/png": "[encoded data removed]",
      "text/plain": [
       "<Figure size 640x480 with 1 Axes>"
      ]
     },
     "metadata": {},
     "output_type": "display_data"
    }
   ],
   "source": [
    "plt.scatter(xdata,ydata,s=40)"
   ]
  },
  {
   "cell_type": "code",
   "execution_count": 51,
   "metadata": {},
   "outputs": [],
   "source": [
    "def gaussian(xdata, a, mu, sigma):\n",
    "    return a*np.exp(-1*((xdata-mu)**2)/(sigma**2))"
   ]
  },
  {
   "cell_type": "code",
   "execution_count": 59,
   "metadata": {},
   "outputs": [
    {
     "data": {
      "text/plain": [
       "array([4.71921382e+05, 5.20381621e+02, 1.79385115e+01])"
      ]
     },
     "execution_count": 59,
     "metadata": {},
     "output_type": "execute_result"
    }
   ],
   "source": [
    "p_opt, p_cov = cf(gaussian,xdata,ydata,(599.95, 522.94, 44.88))\n",
    "p_opt"
   ]
  },
  {
   "cell_type": "code",
   "execution_count": 60,
   "metadata": {},
   "outputs": [
    {
     "name": "stdout",
     "output_type": "stream",
     "text": [
      "[4.71921382e+05 5.20381621e+02 1.79385115e+01]\n"
     ]
    },
    {
     "data": {
      "image/png": "[encoded data removed]",
      "text/plain": [
       "<Figure size 640x480 with 1 Axes>"
      ]
     },
     "metadata": {},
     "output_type": "display_data"
    }
   ],
   "source": [
    "plt.plot(xdata,gaussian(xdata,*p_opt),label='Best Fit',color='r')\n",
    "plt.scatter(xdata,ydata,label='OG_Data',s=25,color='purple')\n",
    "plt.xlabel('Counts)')\n",
    "plt.ylabel('Number of Pixels')\n",
    "plt.title('Gaussian Fit')\n",
    "plt.legend()\n",
    "print(p_opt)"
   ]
  }
 ],
 "metadata": {
  "kernelspec": {
   "display_name": "Python 3",
   "language": "python",
   "name": "python3"
  },
  "language_info": {
   "codemirror_mode": {
    "name": "ipython",
    "version": 3
   },
   "file_extension": ".py",
   "mimetype": "text/x-python",
   "name": "python",
   "nbconvert_exporter": "python",
   "pygments_lexer": "ipython3",
   "version": "3.12.3"
  }
 },
 "nbformat": 4,
 "nbformat_minor": 2
}
