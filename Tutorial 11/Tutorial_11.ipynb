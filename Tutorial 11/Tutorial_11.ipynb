{
 "cells": [
  {
   "cell_type": "markdown",
   "id": "3c9340e2-e9ea-40f2-b4f4-b01cce47cdb6",
   "metadata": {},
   "source": [
    "# Tutorial 11\n",
    "\n",
    "Task 1 : Make a class for a filter read from a FITS file. Each object of this class should be for a specific filter(for instance, U/G/R/I/Z). The class should have the following attributes:\n",
    "\n",
    "1. An array containing the quantum efficiency values for that filter as an instance attribute.\n",
    "2. An array containing the wavelength values as an instance attribute.\n",
    "\n",
    "\n",
    "The class should contain the following functions :\n",
    "\n",
    "1. An __init__() function which initializes the array for quantum efficiency .\n",
    "2. A member function calc_intensity() which calculates the intensity of a star given an object of a star class as its argument.\n",
    "\n",
    "You can use the code that you wrote in Tutorial 10 in this task directly."
   ]
  },
  {
   "cell_type": "code",
   "execution_count": 1,
   "id": "b6676d33-e2c3-4b2d-a698-51e953232a2b",
   "metadata": {},
   "outputs": [],
   "source": [
    "import numpy as np\n",
    "from astropy import units as u\n",
    "from astropy.io import fits\n",
    "from astropy import constants as const"
   ]
  },
  {
   "cell_type": "code",
   "execution_count": 2,
   "id": "408451ff-aaa0-4e13-88e2-eaf9951609ff",
   "metadata": {},
   "outputs": [],
   "source": [
    "h = const.h\n",
    "c = const.c\n",
    "kB = const.k_B\n",
    "\n",
    "def B(wl,T):\n",
    "    exponential = 1/(np.exp(h*c/(wl*kB*T))-1)\n",
    "    prefactor = 2*np.pi*h*c**2/wl**5\n",
    "    return prefactor*exponential"
   ]
  },
  {
   "cell_type": "code",
   "execution_count": 3,
   "id": "f4316bc3-289c-4a52-919d-288777e135bd",
   "metadata": {},
   "outputs": [],
   "source": [
    "class Filter(object):\n",
    "    hdul = fits.open('filter_curves.fits') # Class attribute (required for every object of the class)\n",
    "    \n",
    "    def __init__(self, name: str):                 # Instance attribute\n",
    "        hdu = self.hdul[name]\n",
    "        data = hdu.data\n",
    "        self.name = name\n",
    "        self.q = data['respt']\n",
    "        self.wl = data['wavelength']*u.AA\n",
    "\n",
    "    def print_filter(self):\n",
    "        print(self.q)\n",
    "        print(self.wl)\n",
    "\n",
    "class star(Filter):\n",
    "    \n",
    "    def __init__(self, name: str, temp, rad, dist):\n",
    "        super().__init__(name)\n",
    "        self.T = temp*u.K\n",
    "        self.R  = rad*u.Rsun\n",
    "        self.D = dist.to(u.lightyear)\n",
    "\n",
    "    def print_star(self):\n",
    "        print(f'Temperature={self.T}  \\n Radius={self.R} \\n Distance={self.D}')\n",
    "\n",
    "    def calc_intensity(self):\n",
    "        integral = 0*u.W/u.m**2\n",
    "        i = 1\n",
    "        while i < len(self.wl):\n",
    "            integral += B((self.wl[i-1]+self.wl[i])/2 , self.T)*(self.q[i-1]+self.q[i])/2*(self.wl[i]-self.wl[i-1])\n",
    "            i = i + 1\n",
    "        intensity = integral*(self.R/self.D)**2\n",
    "        \n",
    "        return intensity.to(u.W/u.m**2)"
   ]
  },
  {
   "cell_type": "code",
   "execution_count": 4,
   "id": "8b347ad5-fdac-4834-b5bf-c08c00ce8546",
   "metadata": {},
   "outputs": [
    {
     "name": "stdout",
     "output_type": "stream",
     "text": [
      "Temperature=9940.0 K  \n",
      " Radius=1.711 solRad \n",
      " Distance=8.610528371722024 lyr\n",
      "None\n"
     ]
    }
   ],
   "source": [
    "star_G = star('G', 9940, 1.711, 2.64*u.pc) # Distance is given in parsec\n",
    "print(star_G.print_star())"
   ]
  },
  {
   "cell_type": "code",
   "execution_count": 5,
   "id": "119ecc26-734b-43c6-9fd1-64cf941ef217",
   "metadata": {},
   "outputs": [
    {
     "name": "stdout",
     "output_type": "stream",
     "text": [
      "7.024221695949648e-09 W / m2\n"
     ]
    }
   ],
   "source": [
    "print(star_G.calc_intensity())"
   ]
  }
 ],
 "metadata": {
  "kernelspec": {
   "display_name": "Python 3 (ipykernel)",
   "language": "python",
   "name": "python3"
  },
  "language_info": {
   "codemirror_mode": {
    "name": "ipython",
    "version": 3
   },
   "file_extension": ".py",
   "mimetype": "text/x-python",
   "name": "python",
   "nbconvert_exporter": "python",
   "pygments_lexer": "ipython3",
   "version": "3.12.3"
  }
 },
 "nbformat": 4,
 "nbformat_minor": 5
}
