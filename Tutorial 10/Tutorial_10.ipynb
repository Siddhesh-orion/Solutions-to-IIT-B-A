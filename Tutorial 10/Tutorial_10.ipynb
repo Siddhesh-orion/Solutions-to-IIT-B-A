{
 "cells": [
  {
   "cell_type": "markdown",
   "id": "23f553fa-4118-4eec-b528-fe93f3c88884",
   "metadata": {},
   "source": [
    "# Tutorial 10\n",
    "\n",
    "Arcturus is one of the prominent stars in the Bootes constellation. An astronomer measures the intensity of Arcturus in the G and R filters of the SDSS system and obtains the values of intensity as shown in the cell below. Estimate the temperature of Arcturus to within +-50 K\n",
    ". You may assume that Arcturus behaves like a perfect blackbody. The information provided below is sufficient for solving this question, and no additional information (such as radius of Arcturus) is required."
   ]
  },
  {
   "cell_type": "markdown",
   "id": "ecd0fd48-7551-49ef-a4aa-75f61cc14869",
   "metadata": {},
   "source": [
    "----------------------------------------------------------------------------------------------------------------------------------------------"
   ]
  },
  {
   "cell_type": "code",
   "execution_count": 1,
   "id": "47fe80fd-6834-45a6-9c93-c2762704193b",
   "metadata": {},
   "outputs": [],
   "source": [
    "import numpy as np\n",
    "import matplotlib.pyplot as plt\n",
    "from astropy import units as u\n",
    "from astropy import constants as const\n",
    "from astropy.io import fits\n",
    "from scipy.integrate import simpson"
   ]
  },
  {
   "cell_type": "code",
   "execution_count": 2,
   "id": "3580cbfa-899d-4082-8e88-f9ac77e690fc",
   "metadata": {},
   "outputs": [
    {
     "name": "stdout",
     "output_type": "stream",
     "text": [
      "Filename: filter_curves.fits\n",
      "No.    Name      Ver    Type      Cards   Dimensions   Format\n",
      "  0  PRIMARY       1 PrimaryHDU      63   ()      \n",
      "  1  U             1 BinTableHDU     20   47R x 5C   [E, E, E, E, E]   \n",
      "  2  G             1 BinTableHDU     20   89R x 5C   [E, E, E, E, E]   \n",
      "  3  R             1 BinTableHDU     20   75R x 5C   [E, E, E, E, E]   \n",
      "  4  I             1 BinTableHDU     20   89R x 5C   [E, E, E, E, E]   \n",
      "  5  Z             1 BinTableHDU     20   141R x 5C   [E, E, E, E, E]   \n"
     ]
    }
   ],
   "source": [
    "SDSS_filter = fits.open('filter_curves.fits')\n",
    "SDSS_filter.info()"
   ]
  },
  {
   "cell_type": "code",
   "execution_count": 3,
   "id": "f2e8658f-cec7-4d99-80b8-e1396f1275a6",
   "metadata": {},
   "outputs": [],
   "source": [
    "G = SDSS_filter[2].data\n",
    "R = SDSS_filter[3].data\n",
    "\n",
    "intensity_G = 1.3887e-09 * (u.W / u.m**2)\n",
    "intensity_R = 2.5553e-09 * (u.W / u.m**2)\n",
    "\n",
    "h = const.h\n",
    "c = const.c\n",
    "kB = const.k_B"
   ]
  },
  {
   "cell_type": "markdown",
   "id": "2da95be4-88d0-488f-b81d-90e4acf0d5f8",
   "metadata": {},
   "source": [
    "$$\n",
    "I_{\\text{net}} = \\frac{r^2}{d^2} \\int_0^{\\infty} B(\\lambda, T) \\, q(\\lambda) \\, d\\lambda\n",
    "$$\n",
    "\n",
    "### Taking the ratio of the two intensities gives us a quantity that depends only on temperature.\n",
    "### The idea is to estimate this ratio for a range of temperature values and then compare our ratio with the curve and find the corresponding temperature estimate."
   ]
  },
  {
   "cell_type": "code",
   "execution_count": 4,
   "id": "9c57b88b-a355-470e-b1d4-c413872ce850",
   "metadata": {},
   "outputs": [],
   "source": [
    "def B(wl,T):\n",
    "    exponential = 1/(np.exp(h*c/(wl*kB*T))-1)\n",
    "    prefactor = 2*np.pi*h*c*c/wl**5\n",
    "    return prefactor*exponential"
   ]
  },
  {
   "cell_type": "code",
   "execution_count": 5,
   "id": "91904ad0-fda9-41d8-8036-b950992b7d8c",
   "metadata": {},
   "outputs": [
    {
     "name": "stdout",
     "output_type": "stream",
     "text": [
      "0.5434586936954565\n"
     ]
    }
   ],
   "source": [
    "ratio = intensity_G/intensity_R\n",
    "print(ratio)"
   ]
  },
  {
   "cell_type": "code",
   "execution_count": 6,
   "id": "ef0659c5-0254-4179-b259-3ce2c0fd88bb",
   "metadata": {},
   "outputs": [],
   "source": [
    "wl_G = G['wavelength']*u.AA\n",
    "wl_R = R['wavelength']*u.AA\n",
    "\n",
    "qG = G['respt']\n",
    "qR = R['respt']"
   ]
  },
  {
   "cell_type": "code",
   "execution_count": 7,
   "id": "50cfcc38-5b9f-4480-8144-0de2283247d9",
   "metadata": {},
   "outputs": [],
   "source": [
    "def intensity_ratio(T):\n",
    "    integral_G = 0*u.W/u.m**2\n",
    "    integral_R = 0*u.W/u.m**2\n",
    "    i = 1\n",
    "    while i < len(wl_R):\n",
    "        integral_R += B((wl_R[i-1]+wl_R[i])/2 , T)*(qR[i-1]+qR[i])/2*(wl_R[i]-wl_R[i-1])\n",
    "        i = i + 1\n",
    "    j = 1\n",
    "    while j < len(wl_G):\n",
    "        integral_G += B((wl_G[j-1]+wl_G[j])/2 , T)*(qG[j-1]+qG[j])/2*(wl_G[j]-wl_G[j-1])\n",
    "        j = j + 1\n",
    "    return (integral_G/integral_R)"
   ]
  },
  {
   "cell_type": "code",
   "execution_count": 8,
   "id": "2a0cf7d3-ed88-403f-908e-cf586d483145",
   "metadata": {},
   "outputs": [],
   "source": [
    "T = np.arange(500, 10000, 100)*u.K\n",
    "\n",
    "intensity_ratio_array = np.zeros(len(T))\n",
    "for i, t in enumerate(T):\n",
    "    intensity_ratio_array[i] = intensity_ratio(t)"
   ]
  },
  {
   "cell_type": "code",
   "execution_count": 10,
   "id": "7938994d-815c-4950-bc78-5c24e8ad23a2",
   "metadata": {},
   "outputs": [
    {
     "data": {
      "image/png": "[encoded data removed]",
      "text/plain": [
       "<Figure size 640x480 with 1 Axes>"
      ]
     },
     "metadata": {},
     "output_type": "display_data"
    }
   ],
   "source": [
    "plt.plot(T, intensity_ratio_array)\n",
    "plt.show()"
   ]
  },
  {
   "cell_type": "code",
   "execution_count": 11,
   "id": "c1283eac-b01f-4fad-9881-7cc3f7f50b00",
   "metadata": {},
   "outputs": [
    {
     "name": "stdout",
     "output_type": "stream",
     "text": [
      "4300.0 K\n"
     ]
    }
   ],
   "source": [
    "difference_ratio = np.abs(intensity_ratio_array - ratio)\n",
    "difference_ratio = difference_ratio[~np.isnan(difference_ratio)]\n",
    "\n",
    "Temp = T[np.where(difference_ratio == np.amin(difference_ratio))][0]\n",
    "print(Temp)"
   ]
  },
  {
   "cell_type": "markdown",
   "id": "a3bf9072-8164-4652-81bb-9a667d02b89c",
   "metadata": {},
   "source": [
    "The choice of **midpoint-B $\\times$ average-q per bin (Method 1)** instead of directly applying **Simpson’s rule** to the product $B(\\lambda)q(\\lambda)$ **(Method 2)** is informed by the wavelength sampling, which is relatively coarse (\\~25 Å steps) while the blackbody spectrum $B_\\lambda(\\lambda,T)$ is very smooth across each bin. The main variation inside a bin comes from the tabulated quantum efficiency curve $q(\\lambda)$, which is well approximated by a linear average. By evaluating $B$ at the bin midpoint and pairing it with the averaged $q$, Method 1 preserves the smooth blackbody shape without being distorted by endpoint-only sampling of the product. This makes it more robust on coarse grids, while Method 2 is only more accurate if the integrand $Bq$ is finely sampled."
   ]
  }
 ],
 "metadata": {
  "kernelspec": {
   "display_name": "Python 3 (ipykernel)",
   "language": "python",
   "name": "python3"
  },
  "language_info": {
   "codemirror_mode": {
    "name": "ipython",
    "version": 3
   },
   "file_extension": ".py",
   "mimetype": "text/x-python",
   "name": "python",
   "nbconvert_exporter": "python",
   "pygments_lexer": "ipython3",
   "version": "3.12.3"
  }
 },
 "nbformat": 4,
 "nbformat_minor": 5
}
