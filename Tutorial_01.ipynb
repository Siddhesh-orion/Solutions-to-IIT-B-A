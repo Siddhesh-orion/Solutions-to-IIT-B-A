{
 "cells": [
  {
   "cell_type": "code",
   "execution_count": 2,
   "id": "da650f28-93d2-4fca-8b5c-ef871328f527",
   "metadata": {},
   "outputs": [],
   "source": [
    "with open('Moons_and_planets.csv', 'r') as f:\n",
    "    lines = f.read().split('\\n') # split each line"
   ]
  },
  {
   "cell_type": "code",
   "execution_count": 3,
   "id": "d36703e3-b02c-48e7-8da6-0ac3a11ff4b3",
   "metadata": {},
   "outputs": [
    {
     "name": "stdout",
     "output_type": "stream",
     "text": [
      "['# Name of Moon, Name of Planet, Diameter (km)', 'Moon,Earth,1737.1', 'Phobos,Mars,11.1', 'Deimos,Mars,6.2', 'Io,Jupiter,1818.1']\n"
     ]
    }
   ],
   "source": [
    "print(lines[:5])"
   ]
  },
  {
   "cell_type": "markdown",
   "id": "20e70c14-7e15-407d-84fc-304103d7d090",
   "metadata": {},
   "source": [
    "Tutorial 01\n",
    "1. Find the number of moons of each planet\n",
    "2. Order the moons (along with their planets) according to their sizes"
   ]
  },
  {
   "cell_type": "markdown",
   "id": "5cf16d2e-54d4-45a9-adb6-c553b8a52f84",
   "metadata": {},
   "source": [
    "Solution to Tutorial 01"
   ]
  },
  {
   "cell_type": "code",
   "execution_count": 4,
   "id": "9375d487-49f5-432e-9b31-d445fc11dbf0",
   "metadata": {},
   "outputs": [],
   "source": [
    "with open('Moons_and_planets.csv', 'r') as f:\n",
    "    lines = f.read().split('\\n')"
   ]
  },
  {
   "cell_type": "code",
   "execution_count": 5,
   "id": "dec96e88-38e8-4d35-bc98-0acc881de30c",
   "metadata": {},
   "outputs": [],
   "source": [
    "moons = [] #Empty list\n",
    "for line in lines:\n",
    "    moons.append(line.split(','))"
   ]
  },
  {
   "cell_type": "code",
   "execution_count": 6,
   "id": "2f517ef2-0f9d-45d1-aa23-8921169ae5d5",
   "metadata": {
    "scrolled": true
   },
   "outputs": [
    {
     "data": {
      "text/plain": [
       "[['# Name of Moon', ' Name of Planet', ' Diameter (km)'],\n",
       " ['Moon', 'Earth', '1737.1'],\n",
       " ['Phobos', 'Mars', '11.1'],\n",
       " ['Deimos', 'Mars', '6.2'],\n",
       " ['Io', 'Jupiter', '1818.1'],\n",
       " ['Europa', 'Jupiter', '1560.7'],\n",
       " ['Ganymede', 'Jupiter', '2634.1'],\n",
       " ['Callisto', 'Jupiter', '2408.4'],\n",
       " ['Amalthea', 'Jupiter', '83.5'],\n",
       " ['Himalia', 'Jupiter', '67.0'],\n",
       " ['Elara', 'Jupiter', '43.0'],\n",
       " ['Pasiphae', 'Jupiter', '30.0'],\n",
       " ['Sinope', 'Jupiter', '19.0'],\n",
       " ['Lysithea', 'Jupiter', '18.0'],\n",
       " ['Carme', 'Jupiter', '23.0'],\n",
       " ['Ananke', 'Jupiter', '14.0'],\n",
       " ['Leda', 'Jupiter', '10.0'],\n",
       " ['Thebe', 'Jupiter', '49.3'],\n",
       " ['Adrastea', 'Jupiter', '8.2'],\n",
       " ['Metis', 'Jupiter', '21.5'],\n",
       " ['Callirrhoe', 'Jupiter', '4.3'],\n",
       " ['Themisto', 'Jupiter', '4.0'],\n",
       " ['Megaclite', 'Jupiter', '2.7'],\n",
       " ['Taygete', 'Jupiter', '2.5'],\n",
       " ['Chaldene', 'Jupiter', '1.9'],\n",
       " ['Harpalyke', 'Jupiter', '2.2'],\n",
       " ['Kalyke', 'Jupiter', '2.6'],\n",
       " ['Iocaste', 'Jupiter', '2.6'],\n",
       " ['Erinome', 'Jupiter', '1.6'],\n",
       " ['Isonoe', 'Jupiter', '1.9'],\n",
       " ['Praxidike', 'Jupiter', '3.4'],\n",
       " ['Autonoe', 'Jupiter', '2.0'],\n",
       " ['Thyone', 'Jupiter', '2.0'],\n",
       " ['Hermippe', 'Jupiter', '2.0'],\n",
       " ['Aitne', 'Jupiter', '1.5'],\n",
       " ['Eurydome', 'Jupiter', '1.5'],\n",
       " ['Euanthe', 'Jupiter', '1.5'],\n",
       " ['Euporie', 'Jupiter', '1.0'],\n",
       " ['Orthosie', 'Jupiter', '1.0'],\n",
       " ['Sponde', 'Jupiter', '1.0'],\n",
       " ['Kale', 'Jupiter', '1.0'],\n",
       " ['Pasithee', 'Jupiter', '1.0'],\n",
       " ['Hegemone', 'Jupiter', '1.5'],\n",
       " ['Mneme', 'Jupiter', '1.0'],\n",
       " ['Aoede', 'Jupiter', '2.0'],\n",
       " ['Thelxinoe', 'Jupiter', '1.0'],\n",
       " ['Arche', 'Jupiter', '1.5'],\n",
       " ['Kallichore', 'Jupiter', '1.0'],\n",
       " ['Helike', 'Jupiter', '2.0'],\n",
       " ['Carpo', 'Jupiter', '1.5'],\n",
       " ['Eukelade', 'Jupiter', '2.0'],\n",
       " ['Cyllene', 'Jupiter', '1.0'],\n",
       " ['Kore', 'Jupiter', '1.0'],\n",
       " ['Herse', 'Jupiter', '1.0'],\n",
       " ['S/2010 J 1', 'Jupiter', '1.0'],\n",
       " ['S/2010 J 2', 'Jupiter', '0.5'],\n",
       " ['Dia', 'Jupiter', '2.0'],\n",
       " ['S/2016 J 1', 'Jupiter', '3.0'],\n",
       " ['S/2003 J 18', 'Jupiter', '1.0'],\n",
       " ['S/2011 J 2', 'Jupiter', '0.5'],\n",
       " ['Eirene', 'Jupiter', '2.0'],\n",
       " ['Philophrosyne', 'Jupiter', '1.0'],\n",
       " ['S/2017 J 1', 'Jupiter', '2.0'],\n",
       " ['Eupheme', 'Jupiter', '1.0'],\n",
       " ['S/2003 J 19', 'Jupiter', '1.0'],\n",
       " ['Valetudo', 'Jupiter', '0.5'],\n",
       " ['S/2017 J 2', 'Jupiter', '1.0'],\n",
       " ['S/2017 J 3', 'Jupiter', '1.0'],\n",
       " ['Pandia', 'Jupiter', '1.0'],\n",
       " ['S/2017 J 5', 'Jupiter', '1.0'],\n",
       " ['S/2017 J 6', 'Jupiter', '1.0'],\n",
       " ['S/2017 J 7', 'Jupiter', '1.0'],\n",
       " ['S/2017 J 8', 'Jupiter', '0.5'],\n",
       " ['S/2017 J 9', 'Jupiter', '1.0'],\n",
       " ['Ersa', 'Jupiter', '1.0'],\n",
       " ['S/2011 J 1', 'Jupiter', '0.5'],\n",
       " ['S/2003 J 2', 'Jupiter', '1.0'],\n",
       " ['S/2003 J 4', 'Jupiter', '1.0'],\n",
       " ['S/2003 J 9', 'Jupiter', '0.5'],\n",
       " ['S/2003 J 10', 'Jupiter', '1.0'],\n",
       " ['S/2003 J 12', 'Jupiter', '0.5'],\n",
       " ['S/2003 J 16', 'Jupiter', '1.0'],\n",
       " ['S/2003 J 23', 'Jupiter', '1.0'],\n",
       " ['Mimas', 'Saturn', '198.2'],\n",
       " ['Enceladus', 'Saturn', '252.3'],\n",
       " ['Tethys', 'Saturn', '536.3'],\n",
       " ['Dione', 'Saturn', '562.5'],\n",
       " ['Rhea', 'Saturn', '764.5'],\n",
       " ['Titan', 'Saturn', '2575.5'],\n",
       " ['Hyperion', 'Saturn', '138.6'],\n",
       " ['Iapetus', 'Saturn', '734.5'],\n",
       " ['Phoebe', 'Saturn', '106.6'],\n",
       " ['Janus', 'Saturn', '90.4'],\n",
       " ['Epimetheus', 'Saturn', '58.3'],\n",
       " ['Helene', 'Saturn', '16.0'],\n",
       " ['Telesto', 'Saturn', '12.0'],\n",
       " ['Calypso', 'Saturn', '9.5'],\n",
       " ['Atlas', 'Saturn', '15.3'],\n",
       " ['Prometheus', 'Saturn', '46.8'],\n",
       " ['Pandora', 'Saturn', '40.6'],\n",
       " ['Pan', 'Saturn', '12.8'],\n",
       " ['Ymir', 'Saturn', '9.0'],\n",
       " ['Paaliaq', 'Saturn', '11.0'],\n",
       " ['Tarvos', 'Saturn', '7.5'],\n",
       " ['Ijiraq', 'Saturn', '6.0'],\n",
       " ['Suttungr', 'Saturn', '3.5'],\n",
       " ['Kiviuq', 'Saturn', '8.0'],\n",
       " ['Mundilfari', 'Saturn', '3.5'],\n",
       " ['Albiorix', 'Saturn', '16.0'],\n",
       " ['Skathi', 'Saturn', '4.0'],\n",
       " ['Erriapus', 'Saturn', '5.0'],\n",
       " ['Siarnaq', 'Saturn', '20.0'],\n",
       " ['Thrymr', 'Saturn', '3.5'],\n",
       " ['Narvi', 'Saturn', '3.5'],\n",
       " ['Methone', 'Saturn', '1.6'],\n",
       " ['Pallene', 'Saturn', '2.0'],\n",
       " ['Polydeuces', 'Saturn', '1.25'],\n",
       " ['Daphnis', 'Saturn', '3.8'],\n",
       " ['Aegir', 'Saturn', '3.0'],\n",
       " ['Bebhionn', 'Saturn', '3.0'],\n",
       " ['Bergelmir', 'Saturn', '3.0'],\n",
       " ['Bestla', 'Saturn', '3.5'],\n",
       " ['Farbauti', 'Saturn', '2.5'],\n",
       " ['Fenrir', 'Saturn', '2.0'],\n",
       " ['Fornjot', 'Saturn', '3.0'],\n",
       " ['Hati', 'Saturn', '3.0'],\n",
       " ['Hyrrokkin', 'Saturn', '4.0'],\n",
       " ['Kari', 'Saturn', '3.5'],\n",
       " ['Loge', 'Saturn', '3.0'],\n",
       " ['Skoll', 'Saturn', '3.0'],\n",
       " ['Surtur', 'Saturn', '3.0'],\n",
       " ['Anthe', 'Saturn', '1.0'],\n",
       " ['Jarnsaxa', 'Saturn', '3.0'],\n",
       " ['Greip', 'Saturn', '3.0'],\n",
       " ['Tarqeq', 'Saturn', '3.5'],\n",
       " ['Aegaeon', 'Saturn', '0.33'],\n",
       " ['S/2004 S 7', 'Saturn', '3.0'],\n",
       " ['S/2004 S 12', 'Saturn', '2.5'],\n",
       " ['S/2004 S 13', 'Saturn', '3.0'],\n",
       " ['S/2004 S 17', 'Saturn', '2.0'],\n",
       " ['S/2006 S 1', 'Saturn', '3.0'],\n",
       " ['S/2006 S 3', 'Saturn', '3.0'],\n",
       " ['S/2007 S 2', 'Saturn', '3.0'],\n",
       " ['S/2007 S 3', 'Saturn', '3.0'],\n",
       " ['S/2009 S 1', 'Saturn', '0.15'],\n",
       " ['S/2004 S 20', 'Saturn', '3.0'],\n",
       " ['S/2004 S 21', 'Saturn', '3.0'],\n",
       " ['S/2004 S 22', 'Saturn', '3.0'],\n",
       " ['S/2004 S 23', 'Saturn', '4.0'],\n",
       " ['S/2004 S 24', 'Saturn', '3.0'],\n",
       " ['S/2004 S 25', 'Saturn', '4.0'],\n",
       " ['S/2004 S 26', 'Saturn', '4.0'],\n",
       " ['S/2004 S 27', 'Saturn', '6.0'],\n",
       " ['S/2004 S 28', 'Saturn', '4.0'],\n",
       " ['S/2004 S 29', 'Saturn', '4.0'],\n",
       " ['S/2004 S 30', 'Saturn', '3.0'],\n",
       " ['S/2004 S 31', 'Saturn', '4.0'],\n",
       " ['S/2004 S 32', 'Saturn', '4.0'],\n",
       " ['S/2004 S 33', 'Saturn', '4.0'],\n",
       " ['S/2004 S 34', 'Saturn', '3.0'],\n",
       " ['S/2004 S 35', 'Saturn', '6.0'],\n",
       " ['S/2004 S 36', 'Saturn', '3.0'],\n",
       " ['S/2004 S 37', 'Saturn', '4.0'],\n",
       " ['S/2004 S 38', 'Saturn', '4.0'],\n",
       " ['S/2004 S 39', 'Saturn', '3.0'],\n",
       " ['Ariel', 'Uranus', '578.9'],\n",
       " ['Umbriel', 'Uranus', '584.7'],\n",
       " ['Titania', 'Uranus', '788.9'],\n",
       " ['Oberon', 'Uranus', '761.4'],\n",
       " ['Miranda', 'Uranus', '235.8'],\n",
       " ['Cordelia', 'Uranus', '20.1'],\n",
       " ['Ophelia', 'Uranus', '21.4'],\n",
       " ['Bianca', 'Uranus', '25.7'],\n",
       " ['Cressida', 'Uranus', '39.8'],\n",
       " ['Desdemona', 'Uranus', '32.0'],\n",
       " ['Juliet', 'Uranus', '46.8'],\n",
       " ['Portia', 'Uranus', '67.6'],\n",
       " ['Rosalind', 'Uranus', '36.0'],\n",
       " ['Belinda', 'Uranus', '40.3'],\n",
       " ['Puck', 'Uranus', '81.0'],\n",
       " ['Caliban', 'Uranus', '21.0'],\n",
       " ['Sycorax', 'Uranus', '78.5'],\n",
       " ['Prospero', 'Uranus', '25.0'],\n",
       " ['Setebos', 'Uranus', '24.0'],\n",
       " ['Stephano', 'Uranus', '10.0'],\n",
       " ['Trinculo', 'Uranus', '9.0'],\n",
       " ['Francisco', 'Uranus', '6.0'],\n",
       " ['Margaret', 'Uranus', '5.5'],\n",
       " ['Ferdinand', 'Uranus', '6.0'],\n",
       " ['Perdita', 'Uranus', '15.0'],\n",
       " ['Mab', 'Uranus', '6.0'],\n",
       " ['Cupid', 'Uranus', '9.0'],\n",
       " ['Triton', 'Neptune', '1353.4'],\n",
       " ['Nereid', 'Neptune', '178.5'],\n",
       " ['Naiad', 'Neptune', '33.0'],\n",
       " ['Thalassa', 'Neptune', '41.0'],\n",
       " ['Despina', 'Neptune', '75.0'],\n",
       " ['Galatea', 'Neptune', '88.0'],\n",
       " ['Larissa', 'Neptune', '97.0'],\n",
       " ['Proteus', 'Neptune', '210.0'],\n",
       " ['Halimede', 'Neptune', '31.0'],\n",
       " ['Psamathe', 'Neptune', '20.0'],\n",
       " ['Sao', 'Neptune', '22.0'],\n",
       " ['Laomedeia', 'Neptune', '21.0'],\n",
       " ['Neso', 'Neptune', '30.0'],\n",
       " ['Hippocamp', 'Neptune', '17.4'],\n",
       " ['Charon', 'Pluto', '606.0'],\n",
       " ['Nix', 'Pluto', '23.0'],\n",
       " ['Hydra', 'Pluto', '30.5'],\n",
       " ['Kerberos', 'Pluto', '14.0'],\n",
       " ['Styx', 'Pluto', '10.0'],\n",
       " ['']]"
      ]
     },
     "execution_count": 6,
     "metadata": {},
     "output_type": "execute_result"
    }
   ],
   "source": [
    "moons[:]"
   ]
  },
  {
   "cell_type": "code",
   "execution_count": 7,
   "id": "3c771ea6-417f-4fcc-80bf-138eab8b6589",
   "metadata": {
    "scrolled": true
   },
   "outputs": [
    {
     "name": "stdout",
     "output_type": "stream",
     "text": [
      "[[' Name of Moon', ' Name of Planet', ' Diameter (km)'], ['Moon', 'Earth', '1737.1'], ['Phobos', 'Mars', '11.1'], ['Deimos', 'Mars', '6.2'], ['Io', 'Jupiter', '1818.1'], ['Europa', 'Jupiter', '1560.7'], ['Ganymede', 'Jupiter', '2634.1'], ['Callisto', 'Jupiter', '2408.4'], ['Amalthea', 'Jupiter', '83.5'], ['Himalia', 'Jupiter', '67.0'], ['Elara', 'Jupiter', '43.0'], ['Pasiphae', 'Jupiter', '30.0'], ['Sinope', 'Jupiter', '19.0'], ['Lysithea', 'Jupiter', '18.0'], ['Carme', 'Jupiter', '23.0'], ['Ananke', 'Jupiter', '14.0'], ['Leda', 'Jupiter', '10.0'], ['Thebe', 'Jupiter', '49.3'], ['Adrastea', 'Jupiter', '8.2'], ['Metis', 'Jupiter', '21.5'], ['Callirrhoe', 'Jupiter', '4.3'], ['Themisto', 'Jupiter', '4.0'], ['Megaclite', 'Jupiter', '2.7'], ['Taygete', 'Jupiter', '2.5'], ['Chaldene', 'Jupiter', '1.9'], ['Harpalyke', 'Jupiter', '2.2'], ['Kalyke', 'Jupiter', '2.6'], ['Iocaste', 'Jupiter', '2.6'], ['Erinome', 'Jupiter', '1.6'], ['Isonoe', 'Jupiter', '1.9'], ['Praxidike', 'Jupiter', '3.4'], ['Autonoe', 'Jupiter', '2.0'], ['Thyone', 'Jupiter', '2.0'], ['Hermippe', 'Jupiter', '2.0'], ['Aitne', 'Jupiter', '1.5'], ['Eurydome', 'Jupiter', '1.5'], ['Euanthe', 'Jupiter', '1.5'], ['Euporie', 'Jupiter', '1.0'], ['Orthosie', 'Jupiter', '1.0'], ['Sponde', 'Jupiter', '1.0'], ['Kale', 'Jupiter', '1.0'], ['Pasithee', 'Jupiter', '1.0'], ['Hegemone', 'Jupiter', '1.5'], ['Mneme', 'Jupiter', '1.0'], ['Aoede', 'Jupiter', '2.0'], ['Thelxinoe', 'Jupiter', '1.0'], ['Arche', 'Jupiter', '1.5'], ['Kallichore', 'Jupiter', '1.0'], ['Helike', 'Jupiter', '2.0'], ['Carpo', 'Jupiter', '1.5'], ['Eukelade', 'Jupiter', '2.0'], ['Cyllene', 'Jupiter', '1.0'], ['Kore', 'Jupiter', '1.0'], ['Herse', 'Jupiter', '1.0'], ['S/2010 J 1', 'Jupiter', '1.0'], ['S/2010 J 2', 'Jupiter', '0.5'], ['Dia', 'Jupiter', '2.0'], ['S/2016 J 1', 'Jupiter', '3.0'], ['S/2003 J 18', 'Jupiter', '1.0'], ['S/2011 J 2', 'Jupiter', '0.5'], ['Eirene', 'Jupiter', '2.0'], ['Philophrosyne', 'Jupiter', '1.0'], ['S/2017 J 1', 'Jupiter', '2.0'], ['Eupheme', 'Jupiter', '1.0'], ['S/2003 J 19', 'Jupiter', '1.0'], ['Valetudo', 'Jupiter', '0.5'], ['S/2017 J 2', 'Jupiter', '1.0'], ['S/2017 J 3', 'Jupiter', '1.0'], ['Pandia', 'Jupiter', '1.0'], ['S/2017 J 5', 'Jupiter', '1.0'], ['S/2017 J 6', 'Jupiter', '1.0'], ['S/2017 J 7', 'Jupiter', '1.0'], ['S/2017 J 8', 'Jupiter', '0.5'], ['S/2017 J 9', 'Jupiter', '1.0'], ['Ersa', 'Jupiter', '1.0'], ['S/2011 J 1', 'Jupiter', '0.5'], ['S/2003 J 2', 'Jupiter', '1.0'], ['S/2003 J 4', 'Jupiter', '1.0'], ['S/2003 J 9', 'Jupiter', '0.5'], ['S/2003 J 10', 'Jupiter', '1.0'], ['S/2003 J 12', 'Jupiter', '0.5'], ['S/2003 J 16', 'Jupiter', '1.0'], ['S/2003 J 23', 'Jupiter', '1.0'], ['Mimas', 'Saturn', '198.2'], ['Enceladus', 'Saturn', '252.3'], ['Tethys', 'Saturn', '536.3'], ['Dione', 'Saturn', '562.5'], ['Rhea', 'Saturn', '764.5'], ['Titan', 'Saturn', '2575.5'], ['Hyperion', 'Saturn', '138.6'], ['Iapetus', 'Saturn', '734.5'], ['Phoebe', 'Saturn', '106.6'], ['Janus', 'Saturn', '90.4'], ['Epimetheus', 'Saturn', '58.3'], ['Helene', 'Saturn', '16.0'], ['Telesto', 'Saturn', '12.0'], ['Calypso', 'Saturn', '9.5'], ['Atlas', 'Saturn', '15.3'], ['Prometheus', 'Saturn', '46.8'], ['Pandora', 'Saturn', '40.6'], ['Pan', 'Saturn', '12.8'], ['Ymir', 'Saturn', '9.0'], ['Paaliaq', 'Saturn', '11.0'], ['Tarvos', 'Saturn', '7.5'], ['Ijiraq', 'Saturn', '6.0'], ['Suttungr', 'Saturn', '3.5'], ['Kiviuq', 'Saturn', '8.0'], ['Mundilfari', 'Saturn', '3.5'], ['Albiorix', 'Saturn', '16.0'], ['Skathi', 'Saturn', '4.0'], ['Erriapus', 'Saturn', '5.0'], ['Siarnaq', 'Saturn', '20.0'], ['Thrymr', 'Saturn', '3.5'], ['Narvi', 'Saturn', '3.5'], ['Methone', 'Saturn', '1.6'], ['Pallene', 'Saturn', '2.0'], ['Polydeuces', 'Saturn', '1.25'], ['Daphnis', 'Saturn', '3.8'], ['Aegir', 'Saturn', '3.0'], ['Bebhionn', 'Saturn', '3.0'], ['Bergelmir', 'Saturn', '3.0'], ['Bestla', 'Saturn', '3.5'], ['Farbauti', 'Saturn', '2.5'], ['Fenrir', 'Saturn', '2.0'], ['Fornjot', 'Saturn', '3.0'], ['Hati', 'Saturn', '3.0'], ['Hyrrokkin', 'Saturn', '4.0'], ['Kari', 'Saturn', '3.5'], ['Loge', 'Saturn', '3.0'], ['Skoll', 'Saturn', '3.0'], ['Surtur', 'Saturn', '3.0'], ['Anthe', 'Saturn', '1.0'], ['Jarnsaxa', 'Saturn', '3.0'], ['Greip', 'Saturn', '3.0'], ['Tarqeq', 'Saturn', '3.5'], ['Aegaeon', 'Saturn', '0.33'], ['S/2004 S 7', 'Saturn', '3.0'], ['S/2004 S 12', 'Saturn', '2.5'], ['S/2004 S 13', 'Saturn', '3.0'], ['S/2004 S 17', 'Saturn', '2.0'], ['S/2006 S 1', 'Saturn', '3.0'], ['S/2006 S 3', 'Saturn', '3.0'], ['S/2007 S 2', 'Saturn', '3.0'], ['S/2007 S 3', 'Saturn', '3.0'], ['S/2009 S 1', 'Saturn', '0.15'], ['S/2004 S 20', 'Saturn', '3.0'], ['S/2004 S 21', 'Saturn', '3.0'], ['S/2004 S 22', 'Saturn', '3.0'], ['S/2004 S 23', 'Saturn', '4.0'], ['S/2004 S 24', 'Saturn', '3.0'], ['S/2004 S 25', 'Saturn', '4.0'], ['S/2004 S 26', 'Saturn', '4.0'], ['S/2004 S 27', 'Saturn', '6.0'], ['S/2004 S 28', 'Saturn', '4.0'], ['S/2004 S 29', 'Saturn', '4.0'], ['S/2004 S 30', 'Saturn', '3.0'], ['S/2004 S 31', 'Saturn', '4.0'], ['S/2004 S 32', 'Saturn', '4.0'], ['S/2004 S 33', 'Saturn', '4.0'], ['S/2004 S 34', 'Saturn', '3.0'], ['S/2004 S 35', 'Saturn', '6.0'], ['S/2004 S 36', 'Saturn', '3.0'], ['S/2004 S 37', 'Saturn', '4.0'], ['S/2004 S 38', 'Saturn', '4.0'], ['S/2004 S 39', 'Saturn', '3.0'], ['Ariel', 'Uranus', '578.9'], ['Umbriel', 'Uranus', '584.7'], ['Titania', 'Uranus', '788.9'], ['Oberon', 'Uranus', '761.4'], ['Miranda', 'Uranus', '235.8'], ['Cordelia', 'Uranus', '20.1'], ['Ophelia', 'Uranus', '21.4'], ['Bianca', 'Uranus', '25.7'], ['Cressida', 'Uranus', '39.8'], ['Desdemona', 'Uranus', '32.0'], ['Juliet', 'Uranus', '46.8'], ['Portia', 'Uranus', '67.6'], ['Rosalind', 'Uranus', '36.0'], ['Belinda', 'Uranus', '40.3'], ['Puck', 'Uranus', '81.0'], ['Caliban', 'Uranus', '21.0'], ['Sycorax', 'Uranus', '78.5'], ['Prospero', 'Uranus', '25.0'], ['Setebos', 'Uranus', '24.0'], ['Stephano', 'Uranus', '10.0'], ['Trinculo', 'Uranus', '9.0'], ['Francisco', 'Uranus', '6.0'], ['Margaret', 'Uranus', '5.5'], ['Ferdinand', 'Uranus', '6.0'], ['Perdita', 'Uranus', '15.0'], ['Mab', 'Uranus', '6.0'], ['Cupid', 'Uranus', '9.0'], ['Triton', 'Neptune', '1353.4'], ['Nereid', 'Neptune', '178.5'], ['Naiad', 'Neptune', '33.0'], ['Thalassa', 'Neptune', '41.0'], ['Despina', 'Neptune', '75.0'], ['Galatea', 'Neptune', '88.0'], ['Larissa', 'Neptune', '97.0'], ['Proteus', 'Neptune', '210.0'], ['Halimede', 'Neptune', '31.0'], ['Psamathe', 'Neptune', '20.0'], ['Sao', 'Neptune', '22.0'], ['Laomedeia', 'Neptune', '21.0'], ['Neso', 'Neptune', '30.0'], ['Hippocamp', 'Neptune', '17.4'], ['Charon', 'Pluto', '606.0'], ['Nix', 'Pluto', '23.0'], ['Hydra', 'Pluto', '30.5'], ['Kerberos', 'Pluto', '14.0'], ['Styx', 'Pluto', '10.0'], ['']]\n"
     ]
    }
   ],
   "source": [
    "def remove_hash(moons):\n",
    "  def remove_char(item):\n",
    "    if isinstance(item, str):\n",
    "      return item.replace(\"#\", \"\", 1)  # Remove only the first occurrence\n",
    "    else:\n",
    "      return item\n",
    "\n",
    "  # Create a copy to avoid modifying the original list\n",
    "  new_list = moons.copy()\n",
    "\n",
    "  # Modify the first element within the first sublist\n",
    "  new_list[0][0] = remove_char(new_list[0][0])\n",
    "\n",
    "  return new_list\n",
    "\n",
    "\n",
    "# Remove the hash and print the result\n",
    "moons_final = remove_hash(moons.copy())\n",
    "print(moons_final)"
   ]
  },
  {
   "cell_type": "code",
   "execution_count": 8,
   "id": "5be8450a-965c-42f4-beaa-65a8072f29b2",
   "metadata": {
    "scrolled": true
   },
   "outputs": [
    {
     "name": "stdout",
     "output_type": "stream",
     "text": [
      "[[' Name of Planet'], ['Earth'], ['Mars'], ['Mars'], ['Jupiter'], ['Jupiter'], ['Jupiter'], ['Jupiter'], ['Jupiter'], ['Jupiter'], ['Jupiter'], ['Jupiter'], ['Jupiter'], ['Jupiter'], ['Jupiter'], ['Jupiter'], ['Jupiter'], ['Jupiter'], ['Jupiter'], ['Jupiter'], ['Jupiter'], ['Jupiter'], ['Jupiter'], ['Jupiter'], ['Jupiter'], ['Jupiter'], ['Jupiter'], ['Jupiter'], ['Jupiter'], ['Jupiter'], ['Jupiter'], ['Jupiter'], ['Jupiter'], ['Jupiter'], ['Jupiter'], ['Jupiter'], ['Jupiter'], ['Jupiter'], ['Jupiter'], ['Jupiter'], ['Jupiter'], ['Jupiter'], ['Jupiter'], ['Jupiter'], ['Jupiter'], ['Jupiter'], ['Jupiter'], ['Jupiter'], ['Jupiter'], ['Jupiter'], ['Jupiter'], ['Jupiter'], ['Jupiter'], ['Jupiter'], ['Jupiter'], ['Jupiter'], ['Jupiter'], ['Jupiter'], ['Jupiter'], ['Jupiter'], ['Jupiter'], ['Jupiter'], ['Jupiter'], ['Jupiter'], ['Jupiter'], ['Jupiter'], ['Jupiter'], ['Jupiter'], ['Jupiter'], ['Jupiter'], ['Jupiter'], ['Jupiter'], ['Jupiter'], ['Jupiter'], ['Jupiter'], ['Jupiter'], ['Jupiter'], ['Jupiter'], ['Jupiter'], ['Jupiter'], ['Jupiter'], ['Jupiter'], ['Jupiter'], ['Saturn'], ['Saturn'], ['Saturn'], ['Saturn'], ['Saturn'], ['Saturn'], ['Saturn'], ['Saturn'], ['Saturn'], ['Saturn'], ['Saturn'], ['Saturn'], ['Saturn'], ['Saturn'], ['Saturn'], ['Saturn'], ['Saturn'], ['Saturn'], ['Saturn'], ['Saturn'], ['Saturn'], ['Saturn'], ['Saturn'], ['Saturn'], ['Saturn'], ['Saturn'], ['Saturn'], ['Saturn'], ['Saturn'], ['Saturn'], ['Saturn'], ['Saturn'], ['Saturn'], ['Saturn'], ['Saturn'], ['Saturn'], ['Saturn'], ['Saturn'], ['Saturn'], ['Saturn'], ['Saturn'], ['Saturn'], ['Saturn'], ['Saturn'], ['Saturn'], ['Saturn'], ['Saturn'], ['Saturn'], ['Saturn'], ['Saturn'], ['Saturn'], ['Saturn'], ['Saturn'], ['Saturn'], ['Saturn'], ['Saturn'], ['Saturn'], ['Saturn'], ['Saturn'], ['Saturn'], ['Saturn'], ['Saturn'], ['Saturn'], ['Saturn'], ['Saturn'], ['Saturn'], ['Saturn'], ['Saturn'], ['Saturn'], ['Saturn'], ['Saturn'], ['Saturn'], ['Saturn'], ['Saturn'], ['Saturn'], ['Saturn'], ['Saturn'], ['Saturn'], ['Saturn'], ['Saturn'], ['Saturn'], ['Saturn'], ['Uranus'], ['Uranus'], ['Uranus'], ['Uranus'], ['Uranus'], ['Uranus'], ['Uranus'], ['Uranus'], ['Uranus'], ['Uranus'], ['Uranus'], ['Uranus'], ['Uranus'], ['Uranus'], ['Uranus'], ['Uranus'], ['Uranus'], ['Uranus'], ['Uranus'], ['Uranus'], ['Uranus'], ['Uranus'], ['Uranus'], ['Uranus'], ['Uranus'], ['Uranus'], ['Uranus'], ['Neptune'], ['Neptune'], ['Neptune'], ['Neptune'], ['Neptune'], ['Neptune'], ['Neptune'], ['Neptune'], ['Neptune'], ['Neptune'], ['Neptune'], ['Neptune'], ['Neptune'], ['Neptune'], ['Pluto'], ['Pluto'], ['Pluto'], ['Pluto'], ['Pluto'], []]\n"
     ]
    }
   ],
   "source": [
    "planets = [item[1:2] for item in moons_final]\n",
    "print(planets)"
   ]
  },
  {
   "cell_type": "code",
   "execution_count": 9,
   "id": "5b788f0a-b9ed-4ca1-a7e9-5279323f464d",
   "metadata": {},
   "outputs": [
    {
     "name": "stdout",
     "output_type": "stream",
     "text": [
      "[[], ['Earth'], ['Mars'], ['Mars'], ['Jupiter'], ['Jupiter'], ['Jupiter'], ['Jupiter'], ['Jupiter'], ['Jupiter'], ['Jupiter'], ['Jupiter'], ['Jupiter'], ['Jupiter'], ['Jupiter'], ['Jupiter'], ['Jupiter'], ['Jupiter'], ['Jupiter'], ['Jupiter'], ['Jupiter'], ['Jupiter'], ['Jupiter'], ['Jupiter'], ['Jupiter'], ['Jupiter'], ['Jupiter'], ['Jupiter'], ['Jupiter'], ['Jupiter'], ['Jupiter'], ['Jupiter'], ['Jupiter'], ['Jupiter'], ['Jupiter'], ['Jupiter'], ['Jupiter'], ['Jupiter'], ['Jupiter'], ['Jupiter'], ['Jupiter'], ['Jupiter'], ['Jupiter'], ['Jupiter'], ['Jupiter'], ['Jupiter'], ['Jupiter'], ['Jupiter'], ['Jupiter'], ['Jupiter'], ['Jupiter'], ['Jupiter'], ['Jupiter'], ['Jupiter'], ['Jupiter'], ['Jupiter'], ['Jupiter'], ['Jupiter'], ['Jupiter'], ['Jupiter'], ['Jupiter'], ['Jupiter'], ['Jupiter'], ['Jupiter'], ['Jupiter'], ['Jupiter'], ['Jupiter'], ['Jupiter'], ['Jupiter'], ['Jupiter'], ['Jupiter'], ['Jupiter'], ['Jupiter'], ['Jupiter'], ['Jupiter'], ['Jupiter'], ['Jupiter'], ['Jupiter'], ['Jupiter'], ['Jupiter'], ['Jupiter'], ['Jupiter'], ['Jupiter'], ['Saturn'], ['Saturn'], ['Saturn'], ['Saturn'], ['Saturn'], ['Saturn'], ['Saturn'], ['Saturn'], ['Saturn'], ['Saturn'], ['Saturn'], ['Saturn'], ['Saturn'], ['Saturn'], ['Saturn'], ['Saturn'], ['Saturn'], ['Saturn'], ['Saturn'], ['Saturn'], ['Saturn'], ['Saturn'], ['Saturn'], ['Saturn'], ['Saturn'], ['Saturn'], ['Saturn'], ['Saturn'], ['Saturn'], ['Saturn'], ['Saturn'], ['Saturn'], ['Saturn'], ['Saturn'], ['Saturn'], ['Saturn'], ['Saturn'], ['Saturn'], ['Saturn'], ['Saturn'], ['Saturn'], ['Saturn'], ['Saturn'], ['Saturn'], ['Saturn'], ['Saturn'], ['Saturn'], ['Saturn'], ['Saturn'], ['Saturn'], ['Saturn'], ['Saturn'], ['Saturn'], ['Saturn'], ['Saturn'], ['Saturn'], ['Saturn'], ['Saturn'], ['Saturn'], ['Saturn'], ['Saturn'], ['Saturn'], ['Saturn'], ['Saturn'], ['Saturn'], ['Saturn'], ['Saturn'], ['Saturn'], ['Saturn'], ['Saturn'], ['Saturn'], ['Saturn'], ['Saturn'], ['Saturn'], ['Saturn'], ['Saturn'], ['Saturn'], ['Saturn'], ['Saturn'], ['Saturn'], ['Saturn'], ['Saturn'], ['Uranus'], ['Uranus'], ['Uranus'], ['Uranus'], ['Uranus'], ['Uranus'], ['Uranus'], ['Uranus'], ['Uranus'], ['Uranus'], ['Uranus'], ['Uranus'], ['Uranus'], ['Uranus'], ['Uranus'], ['Uranus'], ['Uranus'], ['Uranus'], ['Uranus'], ['Uranus'], ['Uranus'], ['Uranus'], ['Uranus'], ['Uranus'], ['Uranus'], ['Uranus'], ['Uranus'], ['Neptune'], ['Neptune'], ['Neptune'], ['Neptune'], ['Neptune'], ['Neptune'], ['Neptune'], ['Neptune'], ['Neptune'], ['Neptune'], ['Neptune'], ['Neptune'], ['Neptune'], ['Neptune'], ['Pluto'], ['Pluto'], ['Pluto'], ['Pluto'], ['Pluto'], []]\n",
      "212\n"
     ]
    }
   ],
   "source": [
    "planets[0].remove(' Name of Planet')\n",
    "print(planets)\n",
    "print(len(planets))"
   ]
  },
  {
   "cell_type": "code",
   "execution_count": 10,
   "id": "e802d1c3-b296-46f2-b9e7-de9435facb7b",
   "metadata": {
    "scrolled": true
   },
   "outputs": [
    {
     "name": "stdout",
     "output_type": "stream",
     "text": [
      "[['Earth'], ['Mars'], ['Mars'], ['Jupiter'], ['Jupiter'], ['Jupiter'], ['Jupiter'], ['Jupiter'], ['Jupiter'], ['Jupiter'], ['Jupiter'], ['Jupiter'], ['Jupiter'], ['Jupiter'], ['Jupiter'], ['Jupiter'], ['Jupiter'], ['Jupiter'], ['Jupiter'], ['Jupiter'], ['Jupiter'], ['Jupiter'], ['Jupiter'], ['Jupiter'], ['Jupiter'], ['Jupiter'], ['Jupiter'], ['Jupiter'], ['Jupiter'], ['Jupiter'], ['Jupiter'], ['Jupiter'], ['Jupiter'], ['Jupiter'], ['Jupiter'], ['Jupiter'], ['Jupiter'], ['Jupiter'], ['Jupiter'], ['Jupiter'], ['Jupiter'], ['Jupiter'], ['Jupiter'], ['Jupiter'], ['Jupiter'], ['Jupiter'], ['Jupiter'], ['Jupiter'], ['Jupiter'], ['Jupiter'], ['Jupiter'], ['Jupiter'], ['Jupiter'], ['Jupiter'], ['Jupiter'], ['Jupiter'], ['Jupiter'], ['Jupiter'], ['Jupiter'], ['Jupiter'], ['Jupiter'], ['Jupiter'], ['Jupiter'], ['Jupiter'], ['Jupiter'], ['Jupiter'], ['Jupiter'], ['Jupiter'], ['Jupiter'], ['Jupiter'], ['Jupiter'], ['Jupiter'], ['Jupiter'], ['Jupiter'], ['Jupiter'], ['Jupiter'], ['Jupiter'], ['Jupiter'], ['Jupiter'], ['Jupiter'], ['Jupiter'], ['Jupiter'], ['Saturn'], ['Saturn'], ['Saturn'], ['Saturn'], ['Saturn'], ['Saturn'], ['Saturn'], ['Saturn'], ['Saturn'], ['Saturn'], ['Saturn'], ['Saturn'], ['Saturn'], ['Saturn'], ['Saturn'], ['Saturn'], ['Saturn'], ['Saturn'], ['Saturn'], ['Saturn'], ['Saturn'], ['Saturn'], ['Saturn'], ['Saturn'], ['Saturn'], ['Saturn'], ['Saturn'], ['Saturn'], ['Saturn'], ['Saturn'], ['Saturn'], ['Saturn'], ['Saturn'], ['Saturn'], ['Saturn'], ['Saturn'], ['Saturn'], ['Saturn'], ['Saturn'], ['Saturn'], ['Saturn'], ['Saturn'], ['Saturn'], ['Saturn'], ['Saturn'], ['Saturn'], ['Saturn'], ['Saturn'], ['Saturn'], ['Saturn'], ['Saturn'], ['Saturn'], ['Saturn'], ['Saturn'], ['Saturn'], ['Saturn'], ['Saturn'], ['Saturn'], ['Saturn'], ['Saturn'], ['Saturn'], ['Saturn'], ['Saturn'], ['Saturn'], ['Saturn'], ['Saturn'], ['Saturn'], ['Saturn'], ['Saturn'], ['Saturn'], ['Saturn'], ['Saturn'], ['Saturn'], ['Saturn'], ['Saturn'], ['Saturn'], ['Saturn'], ['Saturn'], ['Saturn'], ['Saturn'], ['Saturn'], ['Saturn'], ['Uranus'], ['Uranus'], ['Uranus'], ['Uranus'], ['Uranus'], ['Uranus'], ['Uranus'], ['Uranus'], ['Uranus'], ['Uranus'], ['Uranus'], ['Uranus'], ['Uranus'], ['Uranus'], ['Uranus'], ['Uranus'], ['Uranus'], ['Uranus'], ['Uranus'], ['Uranus'], ['Uranus'], ['Uranus'], ['Uranus'], ['Uranus'], ['Uranus'], ['Uranus'], ['Uranus'], ['Neptune'], ['Neptune'], ['Neptune'], ['Neptune'], ['Neptune'], ['Neptune'], ['Neptune'], ['Neptune'], ['Neptune'], ['Neptune'], ['Neptune'], ['Neptune'], ['Neptune'], ['Neptune'], ['Pluto'], ['Pluto'], ['Pluto'], ['Pluto'], ['Pluto'], []]\n"
     ]
    }
   ],
   "source": [
    "planets.remove([])\n",
    "print(planets)"
   ]
  },
  {
   "cell_type": "code",
   "execution_count": 11,
   "id": "58bf0478-bfe9-4d52-af4b-5585cdf64ad1",
   "metadata": {},
   "outputs": [
    {
     "name": "stdout",
     "output_type": "stream",
     "text": [
      "The number of moons of each planet are as follows:\n",
      "Mercury: 0\n",
      "Venus: 0\n",
      "Earth: 1\n",
      "Mars: 2\n",
      "Jupiter: 79\n",
      "Saturn: 82\n",
      "Uranus: 27\n",
      "Neptune: 14\n",
      "Pluto: 5\n"
     ]
    }
   ],
   "source": [
    "count1 = 0\n",
    "for planet in planets:\n",
    "    if planet == ['Mercury']:\n",
    "        count1 = count1 + 1\n",
    "\n",
    "count2 = 0\n",
    "for planet in planets:\n",
    "    if planet == ['Venus']:\n",
    "        count2 = count2 + 1\n",
    "\n",
    "count3 = 0\n",
    "for planet in planets:\n",
    "    if planet == ['Earth']:\n",
    "        count3 = count3 + 1\n",
    "\n",
    "count4 = 0\n",
    "for planet in planets:\n",
    "    if planet == ['Mars']:\n",
    "        count4 = count4 + 1\n",
    "\n",
    "count5 = 0\n",
    "for planet in planets:\n",
    "    if planet == ['Jupiter']:\n",
    "        count5 = count5 + 1\n",
    "\n",
    "count6 = 0\n",
    "for planet in planets:\n",
    "    if planet == ['Saturn']:\n",
    "        count6 = count6 + 1\n",
    "\n",
    "count7 = 0\n",
    "for planet in planets:\n",
    "    if planet == ['Uranus']:\n",
    "        count7 = count7 + 1\n",
    "\n",
    "count8 = 0\n",
    "for planet in planets:\n",
    "    if planet == ['Neptune']:\n",
    "        count8 = count8 + 1\n",
    "\n",
    "count9 = 0\n",
    "for planet in planets:\n",
    "    if planet == ['Pluto']:\n",
    "        count9 = count9 + 1\n",
    "\n",
    "print('The number of moons of each planet are as follows:')\n",
    "print('Mercury:', count1)\n",
    "print('Venus:', count2)\n",
    "print('Earth:', count3)\n",
    "print('Mars:', count4)\n",
    "print('Jupiter:', count5)\n",
    "print('Saturn:', count6)\n",
    "print('Uranus:', count7)\n",
    "print('Neptune:', count8)\n",
    "print('Pluto:', count9)"
   ]
  },
  {
   "cell_type": "code",
   "execution_count": 12,
   "id": "d75a05bf-c86a-4e53-9f8d-08c29e6fc31e",
   "metadata": {},
   "outputs": [
    {
     "name": "stdout",
     "output_type": "stream",
     "text": [
      "[[' Diameter (km)'], ['1737.1'], ['11.1'], ['6.2'], ['1818.1'], ['1560.7'], ['2634.1'], ['2408.4'], ['83.5'], ['67.0'], ['43.0'], ['30.0'], ['19.0'], ['18.0'], ['23.0'], ['14.0'], ['10.0'], ['49.3'], ['8.2'], ['21.5'], ['4.3'], ['4.0'], ['2.7'], ['2.5'], ['1.9'], ['2.2'], ['2.6'], ['2.6'], ['1.6'], ['1.9'], ['3.4'], ['2.0'], ['2.0'], ['2.0'], ['1.5'], ['1.5'], ['1.5'], ['1.0'], ['1.0'], ['1.0'], ['1.0'], ['1.0'], ['1.5'], ['1.0'], ['2.0'], ['1.0'], ['1.5'], ['1.0'], ['2.0'], ['1.5'], ['2.0'], ['1.0'], ['1.0'], ['1.0'], ['1.0'], ['0.5'], ['2.0'], ['3.0'], ['1.0'], ['0.5'], ['2.0'], ['1.0'], ['2.0'], ['1.0'], ['1.0'], ['0.5'], ['1.0'], ['1.0'], ['1.0'], ['1.0'], ['1.0'], ['1.0'], ['0.5'], ['1.0'], ['1.0'], ['0.5'], ['1.0'], ['1.0'], ['0.5'], ['1.0'], ['0.5'], ['1.0'], ['1.0'], ['198.2'], ['252.3'], ['536.3'], ['562.5'], ['764.5'], ['2575.5'], ['138.6'], ['734.5'], ['106.6'], ['90.4'], ['58.3'], ['16.0'], ['12.0'], ['9.5'], ['15.3'], ['46.8'], ['40.6'], ['12.8'], ['9.0'], ['11.0'], ['7.5'], ['6.0'], ['3.5'], ['8.0'], ['3.5'], ['16.0'], ['4.0'], ['5.0'], ['20.0'], ['3.5'], ['3.5'], ['1.6'], ['2.0'], ['1.25'], ['3.8'], ['3.0'], ['3.0'], ['3.0'], ['3.5'], ['2.5'], ['2.0'], ['3.0'], ['3.0'], ['4.0'], ['3.5'], ['3.0'], ['3.0'], ['3.0'], ['1.0'], ['3.0'], ['3.0'], ['3.5'], ['0.33'], ['3.0'], ['2.5'], ['3.0'], ['2.0'], ['3.0'], ['3.0'], ['3.0'], ['3.0'], ['0.15'], ['3.0'], ['3.0'], ['3.0'], ['4.0'], ['3.0'], ['4.0'], ['4.0'], ['6.0'], ['4.0'], ['4.0'], ['3.0'], ['4.0'], ['4.0'], ['4.0'], ['3.0'], ['6.0'], ['3.0'], ['4.0'], ['4.0'], ['3.0'], ['578.9'], ['584.7'], ['788.9'], ['761.4'], ['235.8'], ['20.1'], ['21.4'], ['25.7'], ['39.8'], ['32.0'], ['46.8'], ['67.6'], ['36.0'], ['40.3'], ['81.0'], ['21.0'], ['78.5'], ['25.0'], ['24.0'], ['10.0'], ['9.0'], ['6.0'], ['5.5'], ['6.0'], ['15.0'], ['6.0'], ['9.0'], ['1353.4'], ['178.5'], ['33.0'], ['41.0'], ['75.0'], ['88.0'], ['97.0'], ['210.0'], ['31.0'], ['20.0'], ['22.0'], ['21.0'], ['30.0'], ['17.4'], ['606.0'], ['23.0'], ['30.5'], ['14.0'], ['10.0'], []]\n"
     ]
    }
   ],
   "source": [
    "dia = [item[2:3] for item in moons_final]\n",
    "print(dia)"
   ]
  },
  {
   "cell_type": "code",
   "execution_count": 13,
   "id": "94f25854-d0f6-4590-bb4d-2cc9ae0fe39e",
   "metadata": {},
   "outputs": [
    {
     "name": "stdout",
     "output_type": "stream",
     "text": [
      "[['1737.1'], ['11.1'], ['6.2'], ['1818.1'], ['1560.7'], ['2634.1'], ['2408.4'], ['83.5'], ['67.0'], ['43.0'], ['30.0'], ['19.0'], ['18.0'], ['23.0'], ['14.0'], ['10.0'], ['49.3'], ['8.2'], ['21.5'], ['4.3'], ['4.0'], ['2.7'], ['2.5'], ['1.9'], ['2.2'], ['2.6'], ['2.6'], ['1.6'], ['1.9'], ['3.4'], ['2.0'], ['2.0'], ['2.0'], ['1.5'], ['1.5'], ['1.5'], ['1.0'], ['1.0'], ['1.0'], ['1.0'], ['1.0'], ['1.5'], ['1.0'], ['2.0'], ['1.0'], ['1.5'], ['1.0'], ['2.0'], ['1.5'], ['2.0'], ['1.0'], ['1.0'], ['1.0'], ['1.0'], ['0.5'], ['2.0'], ['3.0'], ['1.0'], ['0.5'], ['2.0'], ['1.0'], ['2.0'], ['1.0'], ['1.0'], ['0.5'], ['1.0'], ['1.0'], ['1.0'], ['1.0'], ['1.0'], ['1.0'], ['0.5'], ['1.0'], ['1.0'], ['0.5'], ['1.0'], ['1.0'], ['0.5'], ['1.0'], ['0.5'], ['1.0'], ['1.0'], ['198.2'], ['252.3'], ['536.3'], ['562.5'], ['764.5'], ['2575.5'], ['138.6'], ['734.5'], ['106.6'], ['90.4'], ['58.3'], ['16.0'], ['12.0'], ['9.5'], ['15.3'], ['46.8'], ['40.6'], ['12.8'], ['9.0'], ['11.0'], ['7.5'], ['6.0'], ['3.5'], ['8.0'], ['3.5'], ['16.0'], ['4.0'], ['5.0'], ['20.0'], ['3.5'], ['3.5'], ['1.6'], ['2.0'], ['1.25'], ['3.8'], ['3.0'], ['3.0'], ['3.0'], ['3.5'], ['2.5'], ['2.0'], ['3.0'], ['3.0'], ['4.0'], ['3.5'], ['3.0'], ['3.0'], ['3.0'], ['1.0'], ['3.0'], ['3.0'], ['3.5'], ['0.33'], ['3.0'], ['2.5'], ['3.0'], ['2.0'], ['3.0'], ['3.0'], ['3.0'], ['3.0'], ['0.15'], ['3.0'], ['3.0'], ['3.0'], ['4.0'], ['3.0'], ['4.0'], ['4.0'], ['6.0'], ['4.0'], ['4.0'], ['3.0'], ['4.0'], ['4.0'], ['4.0'], ['3.0'], ['6.0'], ['3.0'], ['4.0'], ['4.0'], ['3.0'], ['578.9'], ['584.7'], ['788.9'], ['761.4'], ['235.8'], ['20.1'], ['21.4'], ['25.7'], ['39.8'], ['32.0'], ['46.8'], ['67.6'], ['36.0'], ['40.3'], ['81.0'], ['21.0'], ['78.5'], ['25.0'], ['24.0'], ['10.0'], ['9.0'], ['6.0'], ['5.5'], ['6.0'], ['15.0'], ['6.0'], ['9.0'], ['1353.4'], ['178.5'], ['33.0'], ['41.0'], ['75.0'], ['88.0'], ['97.0'], ['210.0'], ['31.0'], ['20.0'], ['22.0'], ['21.0'], ['30.0'], ['17.4'], ['606.0'], ['23.0'], ['30.5'], ['14.0'], ['10.0']]\n"
     ]
    }
   ],
   "source": [
    "dia.remove([' Diameter (km)'])\n",
    "dia.remove([])\n",
    "print(dia)"
   ]
  },
  {
   "cell_type": "code",
   "execution_count": 14,
   "id": "99822bc1-d6b1-4ac8-bb4b-d630ffa9322d",
   "metadata": {},
   "outputs": [
    {
     "name": "stdout",
     "output_type": "stream",
     "text": [
      "[[0.15], [0.33], [0.5], [0.5], [0.5], [0.5], [0.5], [0.5], [0.5], [1.0], [1.0], [1.0], [1.0], [1.0], [1.0], [1.0], [1.0], [1.0], [1.0], [1.0], [1.0], [1.0], [1.0], [1.0], [1.0], [1.0], [1.0], [1.0], [1.0], [1.0], [1.0], [1.0], [1.0], [1.0], [1.0], [1.0], [1.0], [1.0], [1.0], [1.25], [1.5], [1.5], [1.5], [1.5], [1.5], [1.5], [1.6], [1.6], [1.9], [1.9], [2.0], [2.0], [2.0], [2.0], [2.0], [2.0], [2.0], [2.0], [2.0], [2.0], [2.0], [2.0], [2.2], [2.5], [2.5], [2.5], [2.6], [2.6], [2.7], [3.0], [3.0], [3.0], [3.0], [3.0], [3.0], [3.0], [3.0], [3.0], [3.0], [3.0], [3.0], [3.0], [3.0], [3.0], [3.0], [3.0], [3.0], [3.0], [3.0], [3.0], [3.0], [3.0], [3.0], [3.0], [3.4], [3.5], [3.5], [3.5], [3.5], [3.5], [3.5], [3.5], [3.8], [4.0], [4.0], [4.0], [4.0], [4.0], [4.0], [4.0], [4.0], [4.0], [4.0], [4.0], [4.0], [4.0], [4.3], [5.0], [5.5], [6.0], [6.0], [6.0], [6.0], [6.0], [6.0], [6.2], [7.5], [8.0], [8.2], [9.0], [9.0], [9.0], [9.5], [10.0], [10.0], [10.0], [11.0], [11.1], [12.0], [12.8], [14.0], [14.0], [15.0], [15.3], [16.0], [16.0], [17.4], [18.0], [19.0], [20.0], [20.0], [20.1], [21.0], [21.0], [21.4], [21.5], [22.0], [23.0], [23.0], [24.0], [25.0], [25.7], [30.0], [30.0], [30.5], [31.0], [32.0], [33.0], [36.0], [39.8], [40.3], [40.6], [41.0], [43.0], [46.8], [46.8], [49.3], [58.3], [67.0], [67.6], [75.0], [78.5], [81.0], [83.5], [88.0], [90.4], [97.0], [106.6], [138.6], [178.5], [198.2], [210.0], [235.8], [252.3], [536.3], [562.5], [578.9], [584.7], [606.0], [734.5], [761.4], [764.5], [788.9], [1353.4], [1560.7], [1737.1], [1818.1], [2408.4], [2575.5], [2634.1]]\n"
     ]
    }
   ],
   "source": [
    "def convert_to_floats(dia):\n",
    "  \"\"\"\n",
    "  Converts numeric strings in a nested list to floats recursively.\n",
    "  \"\"\"\n",
    "  # Base case: If it's a single element (string or float), return it\n",
    "  if isinstance(dia, (str, float)):\n",
    "    if isinstance(dia, str):\n",
    "      try:\n",
    "        return float(dia)\n",
    "      except ValueError:\n",
    "        return dia  # Return the string if conversion fails\n",
    "    else:\n",
    "      return dia  # Already a float\n",
    "\n",
    "  # Recursive case: Convert elements in a nested list\n",
    "  return sorted([convert_to_floats(item) for item in dia])\n",
    "\n",
    "# Convert numeric strings to floats\n",
    "dia_float = convert_to_floats(dia)\n",
    "\n",
    "print(dia_float)\n"
   ]
  },
  {
   "cell_type": "code",
   "execution_count": 15,
   "id": "fd1792f2-2d91-4492-93f3-4547025c37f2",
   "metadata": {},
   "outputs": [
    {
     "name": "stdout",
     "output_type": "stream",
     "text": [
      "[0.15, 0.33, 0.5, 0.5, 0.5, 0.5, 0.5, 0.5, 0.5, 1.0, 1.0, 1.0, 1.0, 1.0, 1.0, 1.0, 1.0, 1.0, 1.0, 1.0, 1.0, 1.0, 1.0, 1.0, 1.0, 1.0, 1.0, 1.0, 1.0, 1.0, 1.0, 1.0, 1.0, 1.0, 1.0, 1.0, 1.0, 1.0, 1.0, 1.25, 1.5, 1.5, 1.5, 1.5, 1.5, 1.5, 1.6, 1.6, 1.9, 1.9, 2.0, 2.0, 2.0, 2.0, 2.0, 2.0, 2.0, 2.0, 2.0, 2.0, 2.0, 2.0, 2.2, 2.5, 2.5, 2.5, 2.6, 2.6, 2.7, 3.0, 3.0, 3.0, 3.0, 3.0, 3.0, 3.0, 3.0, 3.0, 3.0, 3.0, 3.0, 3.0, 3.0, 3.0, 3.0, 3.0, 3.0, 3.0, 3.0, 3.0, 3.0, 3.0, 3.0, 3.0, 3.4, 3.5, 3.5, 3.5, 3.5, 3.5, 3.5, 3.5, 3.8, 4.0, 4.0, 4.0, 4.0, 4.0, 4.0, 4.0, 4.0, 4.0, 4.0, 4.0, 4.0, 4.0, 4.3, 5.0, 5.5, 6.0, 6.0, 6.0, 6.0, 6.0, 6.0, 6.2, 7.5, 8.0, 8.2, 9.0, 9.0, 9.0, 9.5, 10.0, 10.0, 10.0, 11.0, 11.1, 12.0, 12.8, 14.0, 14.0, 15.0, 15.3, 16.0, 16.0, 17.4, 18.0, 19.0, 20.0, 20.0, 20.1, 21.0, 21.0, 21.4, 21.5, 22.0, 23.0, 23.0, 24.0, 25.0, 25.7, 30.0, 30.0, 30.5, 31.0, 32.0, 33.0, 36.0, 39.8, 40.3, 40.6, 41.0, 43.0, 46.8, 46.8, 49.3, 58.3, 67.0, 67.6, 75.0, 78.5, 81.0, 83.5, 88.0, 90.4, 97.0, 106.6, 138.6, 178.5, 198.2, 210.0, 235.8, 252.3, 536.3, 562.5, 578.9, 584.7, 606.0, 734.5, 761.4, 764.5, 788.9, 1353.4, 1560.7, 1737.1, 1818.1, 2408.4, 2575.5, 2634.1]\n",
      "210\n"
     ]
    }
   ],
   "source": [
    "dia_float_final = []\n",
    "for dia in dia_float:\n",
    "    for dia_comp in dia:\n",
    "        dia_float_final.append(dia_comp)\n",
    "print(dia_float_final)\n",
    "print(len(dia_float_final))"
   ]
  },
  {
   "cell_type": "code",
   "execution_count": 16,
   "id": "b38dfc8c-116c-4805-9b01-1934fc25cf37",
   "metadata": {
    "scrolled": true
   },
   "outputs": [
    {
     "name": "stdout",
     "output_type": "stream",
     "text": [
      "[['Moon', 'Earth', '1737.1'], ['Phobos', 'Mars', '11.1'], ['Deimos', 'Mars', '6.2'], ['Io', 'Jupiter', '1818.1'], ['Europa', 'Jupiter', '1560.7'], ['Ganymede', 'Jupiter', '2634.1'], ['Callisto', 'Jupiter', '2408.4'], ['Amalthea', 'Jupiter', '83.5'], ['Himalia', 'Jupiter', '67.0'], ['Elara', 'Jupiter', '43.0'], ['Pasiphae', 'Jupiter', '30.0'], ['Sinope', 'Jupiter', '19.0'], ['Lysithea', 'Jupiter', '18.0'], ['Carme', 'Jupiter', '23.0'], ['Ananke', 'Jupiter', '14.0'], ['Leda', 'Jupiter', '10.0'], ['Thebe', 'Jupiter', '49.3'], ['Adrastea', 'Jupiter', '8.2'], ['Metis', 'Jupiter', '21.5'], ['Callirrhoe', 'Jupiter', '4.3'], ['Themisto', 'Jupiter', '4.0'], ['Megaclite', 'Jupiter', '2.7'], ['Taygete', 'Jupiter', '2.5'], ['Chaldene', 'Jupiter', '1.9'], ['Harpalyke', 'Jupiter', '2.2'], ['Kalyke', 'Jupiter', '2.6'], ['Iocaste', 'Jupiter', '2.6'], ['Erinome', 'Jupiter', '1.6'], ['Isonoe', 'Jupiter', '1.9'], ['Praxidike', 'Jupiter', '3.4'], ['Autonoe', 'Jupiter', '2.0'], ['Thyone', 'Jupiter', '2.0'], ['Hermippe', 'Jupiter', '2.0'], ['Aitne', 'Jupiter', '1.5'], ['Eurydome', 'Jupiter', '1.5'], ['Euanthe', 'Jupiter', '1.5'], ['Euporie', 'Jupiter', '1.0'], ['Orthosie', 'Jupiter', '1.0'], ['Sponde', 'Jupiter', '1.0'], ['Kale', 'Jupiter', '1.0'], ['Pasithee', 'Jupiter', '1.0'], ['Hegemone', 'Jupiter', '1.5'], ['Mneme', 'Jupiter', '1.0'], ['Aoede', 'Jupiter', '2.0'], ['Thelxinoe', 'Jupiter', '1.0'], ['Arche', 'Jupiter', '1.5'], ['Kallichore', 'Jupiter', '1.0'], ['Helike', 'Jupiter', '2.0'], ['Carpo', 'Jupiter', '1.5'], ['Eukelade', 'Jupiter', '2.0'], ['Cyllene', 'Jupiter', '1.0'], ['Kore', 'Jupiter', '1.0'], ['Herse', 'Jupiter', '1.0'], ['S/2010 J 1', 'Jupiter', '1.0'], ['S/2010 J 2', 'Jupiter', '0.5'], ['Dia', 'Jupiter', '2.0'], ['S/2016 J 1', 'Jupiter', '3.0'], ['S/2003 J 18', 'Jupiter', '1.0'], ['S/2011 J 2', 'Jupiter', '0.5'], ['Eirene', 'Jupiter', '2.0'], ['Philophrosyne', 'Jupiter', '1.0'], ['S/2017 J 1', 'Jupiter', '2.0'], ['Eupheme', 'Jupiter', '1.0'], ['S/2003 J 19', 'Jupiter', '1.0'], ['Valetudo', 'Jupiter', '0.5'], ['S/2017 J 2', 'Jupiter', '1.0'], ['S/2017 J 3', 'Jupiter', '1.0'], ['Pandia', 'Jupiter', '1.0'], ['S/2017 J 5', 'Jupiter', '1.0'], ['S/2017 J 6', 'Jupiter', '1.0'], ['S/2017 J 7', 'Jupiter', '1.0'], ['S/2017 J 8', 'Jupiter', '0.5'], ['S/2017 J 9', 'Jupiter', '1.0'], ['Ersa', 'Jupiter', '1.0'], ['S/2011 J 1', 'Jupiter', '0.5'], ['S/2003 J 2', 'Jupiter', '1.0'], ['S/2003 J 4', 'Jupiter', '1.0'], ['S/2003 J 9', 'Jupiter', '0.5'], ['S/2003 J 10', 'Jupiter', '1.0'], ['S/2003 J 12', 'Jupiter', '0.5'], ['S/2003 J 16', 'Jupiter', '1.0'], ['S/2003 J 23', 'Jupiter', '1.0'], ['Mimas', 'Saturn', '198.2'], ['Enceladus', 'Saturn', '252.3'], ['Tethys', 'Saturn', '536.3'], ['Dione', 'Saturn', '562.5'], ['Rhea', 'Saturn', '764.5'], ['Titan', 'Saturn', '2575.5'], ['Hyperion', 'Saturn', '138.6'], ['Iapetus', 'Saturn', '734.5'], ['Phoebe', 'Saturn', '106.6'], ['Janus', 'Saturn', '90.4'], ['Epimetheus', 'Saturn', '58.3'], ['Helene', 'Saturn', '16.0'], ['Telesto', 'Saturn', '12.0'], ['Calypso', 'Saturn', '9.5'], ['Atlas', 'Saturn', '15.3'], ['Prometheus', 'Saturn', '46.8'], ['Pandora', 'Saturn', '40.6'], ['Pan', 'Saturn', '12.8'], ['Ymir', 'Saturn', '9.0'], ['Paaliaq', 'Saturn', '11.0'], ['Tarvos', 'Saturn', '7.5'], ['Ijiraq', 'Saturn', '6.0'], ['Suttungr', 'Saturn', '3.5'], ['Kiviuq', 'Saturn', '8.0'], ['Mundilfari', 'Saturn', '3.5'], ['Albiorix', 'Saturn', '16.0'], ['Skathi', 'Saturn', '4.0'], ['Erriapus', 'Saturn', '5.0'], ['Siarnaq', 'Saturn', '20.0'], ['Thrymr', 'Saturn', '3.5'], ['Narvi', 'Saturn', '3.5'], ['Methone', 'Saturn', '1.6'], ['Pallene', 'Saturn', '2.0'], ['Polydeuces', 'Saturn', '1.25'], ['Daphnis', 'Saturn', '3.8'], ['Aegir', 'Saturn', '3.0'], ['Bebhionn', 'Saturn', '3.0'], ['Bergelmir', 'Saturn', '3.0'], ['Bestla', 'Saturn', '3.5'], ['Farbauti', 'Saturn', '2.5'], ['Fenrir', 'Saturn', '2.0'], ['Fornjot', 'Saturn', '3.0'], ['Hati', 'Saturn', '3.0'], ['Hyrrokkin', 'Saturn', '4.0'], ['Kari', 'Saturn', '3.5'], ['Loge', 'Saturn', '3.0'], ['Skoll', 'Saturn', '3.0'], ['Surtur', 'Saturn', '3.0'], ['Anthe', 'Saturn', '1.0'], ['Jarnsaxa', 'Saturn', '3.0'], ['Greip', 'Saturn', '3.0'], ['Tarqeq', 'Saturn', '3.5'], ['Aegaeon', 'Saturn', '0.33'], ['S/2004 S 7', 'Saturn', '3.0'], ['S/2004 S 12', 'Saturn', '2.5'], ['S/2004 S 13', 'Saturn', '3.0'], ['S/2004 S 17', 'Saturn', '2.0'], ['S/2006 S 1', 'Saturn', '3.0'], ['S/2006 S 3', 'Saturn', '3.0'], ['S/2007 S 2', 'Saturn', '3.0'], ['S/2007 S 3', 'Saturn', '3.0'], ['S/2009 S 1', 'Saturn', '0.15'], ['S/2004 S 20', 'Saturn', '3.0'], ['S/2004 S 21', 'Saturn', '3.0'], ['S/2004 S 22', 'Saturn', '3.0'], ['S/2004 S 23', 'Saturn', '4.0'], ['S/2004 S 24', 'Saturn', '3.0'], ['S/2004 S 25', 'Saturn', '4.0'], ['S/2004 S 26', 'Saturn', '4.0'], ['S/2004 S 27', 'Saturn', '6.0'], ['S/2004 S 28', 'Saturn', '4.0'], ['S/2004 S 29', 'Saturn', '4.0'], ['S/2004 S 30', 'Saturn', '3.0'], ['S/2004 S 31', 'Saturn', '4.0'], ['S/2004 S 32', 'Saturn', '4.0'], ['S/2004 S 33', 'Saturn', '4.0'], ['S/2004 S 34', 'Saturn', '3.0'], ['S/2004 S 35', 'Saturn', '6.0'], ['S/2004 S 36', 'Saturn', '3.0'], ['S/2004 S 37', 'Saturn', '4.0'], ['S/2004 S 38', 'Saturn', '4.0'], ['S/2004 S 39', 'Saturn', '3.0'], ['Ariel', 'Uranus', '578.9'], ['Umbriel', 'Uranus', '584.7'], ['Titania', 'Uranus', '788.9'], ['Oberon', 'Uranus', '761.4'], ['Miranda', 'Uranus', '235.8'], ['Cordelia', 'Uranus', '20.1'], ['Ophelia', 'Uranus', '21.4'], ['Bianca', 'Uranus', '25.7'], ['Cressida', 'Uranus', '39.8'], ['Desdemona', 'Uranus', '32.0'], ['Juliet', 'Uranus', '46.8'], ['Portia', 'Uranus', '67.6'], ['Rosalind', 'Uranus', '36.0'], ['Belinda', 'Uranus', '40.3'], ['Puck', 'Uranus', '81.0'], ['Caliban', 'Uranus', '21.0'], ['Sycorax', 'Uranus', '78.5'], ['Prospero', 'Uranus', '25.0'], ['Setebos', 'Uranus', '24.0'], ['Stephano', 'Uranus', '10.0'], ['Trinculo', 'Uranus', '9.0'], ['Francisco', 'Uranus', '6.0'], ['Margaret', 'Uranus', '5.5'], ['Ferdinand', 'Uranus', '6.0'], ['Perdita', 'Uranus', '15.0'], ['Mab', 'Uranus', '6.0'], ['Cupid', 'Uranus', '9.0'], ['Triton', 'Neptune', '1353.4'], ['Nereid', 'Neptune', '178.5'], ['Naiad', 'Neptune', '33.0'], ['Thalassa', 'Neptune', '41.0'], ['Despina', 'Neptune', '75.0'], ['Galatea', 'Neptune', '88.0'], ['Larissa', 'Neptune', '97.0'], ['Proteus', 'Neptune', '210.0'], ['Halimede', 'Neptune', '31.0'], ['Psamathe', 'Neptune', '20.0'], ['Sao', 'Neptune', '22.0'], ['Laomedeia', 'Neptune', '21.0'], ['Neso', 'Neptune', '30.0'], ['Hippocamp', 'Neptune', '17.4'], ['Charon', 'Pluto', '606.0'], ['Nix', 'Pluto', '23.0'], ['Hydra', 'Pluto', '30.5'], ['Kerberos', 'Pluto', '14.0'], ['Styx', 'Pluto', '10.0']]\n",
      "210\n"
     ]
    }
   ],
   "source": [
    "def remove_hash(moons):\n",
    "  def remove_char(item):\n",
    "    if isinstance(item, str):\n",
    "      return item.replace(\"#\", \"\", 1)  # Remove only the first occurrence\n",
    "    else:\n",
    "      return item\n",
    "\n",
    "  # Create a copy to avoid modifying the original list\n",
    "  new_list = moons.copy()\n",
    "\n",
    "  # Modify the first element within the first sublist\n",
    "  new_list[0][0] = remove_char(new_list[0][0])\n",
    "\n",
    "  return new_list\n",
    "\n",
    "\n",
    "# Remove the hash and print the result\n",
    "moons_final = remove_hash(moons.copy())\n",
    "moons_final.remove([' Name of Moon', ' Name of Planet', ' Diameter (km)'])\n",
    "moons_final.remove([''])\n",
    "print(moons_final)\n",
    "print(len(moons_final))"
   ]
  },
  {
   "cell_type": "code",
   "execution_count": null,
   "id": "8dd45b36-ed19-413b-9217-e12d39d162b4",
   "metadata": {},
   "outputs": [],
   "source": []
  }
 ],
 "metadata": {
  "kernelspec": {
   "display_name": "Python 3",
   "language": "python",
   "name": "python3"
  },
  "language_info": {
   "codemirror_mode": {
    "name": "ipython",
    "version": 3
   },
   "file_extension": ".py",
   "mimetype": "text/x-python",
   "name": "python",
   "nbconvert_exporter": "python",
   "pygments_lexer": "ipython3",
   "version": "3.12.3"
  }
 },
 "nbformat": 4,
 "nbformat_minor": 5
}
